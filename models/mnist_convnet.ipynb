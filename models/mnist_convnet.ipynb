{
 "cells": [
  {
   "cell_type": "code",
   "execution_count": 1,
   "metadata": {},
   "outputs": [],
   "source": [
    "# model adapted from https://keras.io/examples/vision/mnist_convnet/"
   ]
  },
  {
   "cell_type": "code",
   "execution_count": 2,
   "metadata": {},
   "outputs": [],
   "source": [
    "from tensorflow.keras.layers import Input, Conv2D, MaxPooling2D, Flatten, Softmax, Dense, ReLU, Dropout\n",
    "from tensorflow.keras import Model\n",
    "from tensorflow.keras.datasets import mnist\n",
    "from tensorflow.keras.utils import to_categorical\n",
    "import numpy as np\n",
    "import matplotlib.pyplot as plt\n",
    "import tensorflow as tf"
   ]
  },
  {
   "cell_type": "code",
   "execution_count": 3,
   "metadata": {},
   "outputs": [],
   "source": [
    "(X_train, y_train), (X_test, y_test) = mnist.load_data()"
   ]
  },
  {
   "cell_type": "code",
   "execution_count": 4,
   "metadata": {},
   "outputs": [],
   "source": [
    "# Convert y_train into one-hot format\n",
    "temp = []\n",
    "for i in range(len(y_train)):\n",
    "    temp.append(to_categorical(y_train[i], num_classes=10))\n",
    "y_train = np.array(temp)\n",
    "# Convert y_test into one-hot format\n",
    "temp = []\n",
    "for i in range(len(y_test)):    \n",
    "    temp.append(to_categorical(y_test[i], num_classes=10))\n",
    "y_test = np.array(temp)"
   ]
  },
  {
   "cell_type": "code",
   "execution_count": 5,
   "metadata": {},
   "outputs": [],
   "source": [
    "#reshaping\n",
    "X_train = X_train.reshape(X_train.shape[0], 28, 28, 1).astype(np.float32)\n",
    "X_test = X_test.reshape(X_test.shape[0], 28, 28, 1).astype(np.float32)"
   ]
  },
  {
   "cell_type": "code",
   "execution_count": 6,
   "metadata": {},
   "outputs": [],
   "source": [
    "inputs = Input(shape=(28,28,1))\n",
    "out = Conv2D(4, 3)(inputs)\n",
    "out = ReLU()(out)\n",
    "out = MaxPooling2D()(out)\n",
    "out = Conv2D(8, 3)(out)\n",
    "out = ReLU()(out)\n",
    "out = MaxPooling2D()(out)\n",
    "out = Flatten()(out)\n",
    "out = Dropout(0.5)(out)\n",
    "out = Dense(10, activation=None)(out)\n",
    "out = Softmax()(out)\n",
    "full_model = Model(inputs, out)"
   ]
  },
  {
   "cell_type": "code",
   "execution_count": 7,
   "metadata": {},
   "outputs": [
    {
     "name": "stdout",
     "output_type": "stream",
     "text": [
      "Model: \"model\"\n",
      "_________________________________________________________________\n",
      " Layer (type)                Output Shape              Param #   \n",
      "=================================================================\n",
      " input_1 (InputLayer)        [(None, 28, 28, 1)]       0         \n",
      "                                                                 \n",
      " conv2d (Conv2D)             (None, 26, 26, 4)         40        \n",
      "                                                                 \n",
      " re_lu (ReLU)                (None, 26, 26, 4)         0         \n",
      "                                                                 \n",
      " max_pooling2d (MaxPooling2D  (None, 13, 13, 4)        0         \n",
      " )                                                               \n",
      "                                                                 \n",
      " conv2d_1 (Conv2D)           (None, 11, 11, 8)         296       \n",
      "                                                                 \n",
      " re_lu_1 (ReLU)              (None, 11, 11, 8)         0         \n",
      "                                                                 \n",
      " max_pooling2d_1 (MaxPooling  (None, 5, 5, 8)          0         \n",
      " 2D)                                                             \n",
      "                                                                 \n",
      " flatten (Flatten)           (None, 200)               0         \n",
      "                                                                 \n",
      " dropout (Dropout)           (None, 200)               0         \n",
      "                                                                 \n",
      " dense (Dense)               (None, 10)                2010      \n",
      "                                                                 \n",
      " softmax (Softmax)           (None, 10)                0         \n",
      "                                                                 \n",
      "=================================================================\n",
      "Total params: 2,346\n",
      "Trainable params: 2,346\n",
      "Non-trainable params: 0\n",
      "_________________________________________________________________\n"
     ]
    }
   ],
   "source": [
    "full_model.summary()"
   ]
  },
  {
   "cell_type": "code",
   "execution_count": 8,
   "metadata": {},
   "outputs": [],
   "source": [
    "full_model.compile(\n",
    "    loss='categorical_crossentropy',\n",
    "    optimizer='adam',\n",
    "    metrics=['acc']\n",
    "    )"
   ]
  },
  {
   "cell_type": "code",
   "execution_count": 9,
   "metadata": {},
   "outputs": [
    {
     "name": "stdout",
     "output_type": "stream",
     "text": [
      "Epoch 1/100\n"
     ]
    },
    {
     "name": "stderr",
     "output_type": "stream",
     "text": [
      "2022-12-11 01:15:19.413108: W tensorflow/core/platform/profile_utils/cpu_utils.cc:128] Failed to get CPU frequency: 0 Hz\n"
     ]
    },
    {
     "name": "stdout",
     "output_type": "stream",
     "text": [
      "469/469 [==============================] - 4s 7ms/step - loss: 15.1837 - acc: 0.3464 - val_loss: 1.1383 - val_acc: 0.6266\n",
      "Epoch 2/100\n",
      "469/469 [==============================] - 3s 7ms/step - loss: 1.3581 - acc: 0.5707 - val_loss: 0.6394 - val_acc: 0.8276\n",
      "Epoch 3/100\n",
      "469/469 [==============================] - 3s 7ms/step - loss: 0.9698 - acc: 0.7040 - val_loss: 0.4940 - val_acc: 0.8754\n",
      "Epoch 4/100\n",
      "469/469 [==============================] - 3s 6ms/step - loss: 0.8298 - acc: 0.7487 - val_loss: 0.4032 - val_acc: 0.8965\n",
      "Epoch 5/100\n",
      "469/469 [==============================] - 3s 6ms/step - loss: 0.7570 - acc: 0.7679 - val_loss: 0.3625 - val_acc: 0.9054\n",
      "Epoch 6/100\n",
      "469/469 [==============================] - 3s 7ms/step - loss: 0.6996 - acc: 0.7855 - val_loss: 0.3243 - val_acc: 0.9122\n",
      "Epoch 7/100\n",
      "469/469 [==============================] - 3s 6ms/step - loss: 0.6625 - acc: 0.7960 - val_loss: 0.3025 - val_acc: 0.9196\n",
      "Epoch 8/100\n",
      "469/469 [==============================] - 3s 6ms/step - loss: 0.6175 - acc: 0.8108 - val_loss: 0.2832 - val_acc: 0.9214\n",
      "Epoch 9/100\n",
      "469/469 [==============================] - 3s 7ms/step - loss: 0.5870 - acc: 0.8208 - val_loss: 0.2648 - val_acc: 0.9255\n",
      "Epoch 10/100\n",
      "469/469 [==============================] - 3s 6ms/step - loss: 0.5464 - acc: 0.8323 - val_loss: 0.2408 - val_acc: 0.9316\n",
      "Epoch 11/100\n",
      "469/469 [==============================] - 3s 7ms/step - loss: 0.5161 - acc: 0.8414 - val_loss: 0.2283 - val_acc: 0.9367\n",
      "Epoch 12/100\n",
      "469/469 [==============================] - 3s 6ms/step - loss: 0.4853 - acc: 0.8510 - val_loss: 0.2112 - val_acc: 0.9409\n",
      "Epoch 13/100\n",
      "469/469 [==============================] - 3s 6ms/step - loss: 0.4512 - acc: 0.8611 - val_loss: 0.1907 - val_acc: 0.9462\n",
      "Epoch 14/100\n",
      "469/469 [==============================] - 3s 6ms/step - loss: 0.4275 - acc: 0.8686 - val_loss: 0.1730 - val_acc: 0.9476\n",
      "Epoch 15/100\n",
      "469/469 [==============================] - 3s 7ms/step - loss: 0.3901 - acc: 0.8815 - val_loss: 0.1625 - val_acc: 0.9531\n",
      "Epoch 16/100\n",
      "469/469 [==============================] - 3s 7ms/step - loss: 0.3610 - acc: 0.8907 - val_loss: 0.1465 - val_acc: 0.9555\n",
      "Epoch 17/100\n",
      "469/469 [==============================] - 3s 6ms/step - loss: 0.3334 - acc: 0.8980 - val_loss: 0.1329 - val_acc: 0.9617\n",
      "Epoch 18/100\n",
      "469/469 [==============================] - 3s 6ms/step - loss: 0.3040 - acc: 0.9056 - val_loss: 0.1239 - val_acc: 0.9630\n",
      "Epoch 19/100\n",
      "469/469 [==============================] - 3s 6ms/step - loss: 0.2845 - acc: 0.9130 - val_loss: 0.1293 - val_acc: 0.9643\n",
      "Epoch 20/100\n",
      "469/469 [==============================] - 3s 6ms/step - loss: 0.2711 - acc: 0.9162 - val_loss: 0.1136 - val_acc: 0.9668\n",
      "Epoch 21/100\n",
      "469/469 [==============================] - 3s 6ms/step - loss: 0.2593 - acc: 0.9194 - val_loss: 0.1090 - val_acc: 0.9673\n",
      "Epoch 22/100\n",
      "469/469 [==============================] - 3s 6ms/step - loss: 0.2448 - acc: 0.9233 - val_loss: 0.1027 - val_acc: 0.9689\n",
      "Epoch 23/100\n",
      "469/469 [==============================] - 3s 6ms/step - loss: 0.2428 - acc: 0.9254 - val_loss: 0.1065 - val_acc: 0.9695\n",
      "Epoch 24/100\n",
      "469/469 [==============================] - 3s 6ms/step - loss: 0.2382 - acc: 0.9277 - val_loss: 0.0967 - val_acc: 0.9724\n",
      "Epoch 25/100\n",
      "469/469 [==============================] - 3s 6ms/step - loss: 0.2226 - acc: 0.9322 - val_loss: 0.0993 - val_acc: 0.9705\n",
      "Epoch 26/100\n",
      "469/469 [==============================] - 3s 6ms/step - loss: 0.2144 - acc: 0.9333 - val_loss: 0.0866 - val_acc: 0.9736\n",
      "Epoch 27/100\n",
      "469/469 [==============================] - 3s 6ms/step - loss: 0.2063 - acc: 0.9370 - val_loss: 0.0863 - val_acc: 0.9746\n",
      "Epoch 28/100\n",
      "469/469 [==============================] - 4s 8ms/step - loss: 0.2030 - acc: 0.9368 - val_loss: 0.0823 - val_acc: 0.9757\n",
      "Epoch 29/100\n",
      "469/469 [==============================] - 3s 7ms/step - loss: 0.1999 - acc: 0.9380 - val_loss: 0.0807 - val_acc: 0.9754\n",
      "Epoch 30/100\n",
      "469/469 [==============================] - 3s 7ms/step - loss: 0.1963 - acc: 0.9391 - val_loss: 0.0775 - val_acc: 0.9761\n",
      "Epoch 31/100\n",
      "469/469 [==============================] - 3s 6ms/step - loss: 0.1868 - acc: 0.9420 - val_loss: 0.0743 - val_acc: 0.9768\n",
      "Epoch 32/100\n",
      "469/469 [==============================] - 3s 6ms/step - loss: 0.1852 - acc: 0.9424 - val_loss: 0.0732 - val_acc: 0.9767\n",
      "Epoch 33/100\n",
      "469/469 [==============================] - 3s 6ms/step - loss: 0.1834 - acc: 0.9426 - val_loss: 0.0738 - val_acc: 0.9774\n",
      "Epoch 34/100\n",
      "469/469 [==============================] - 3s 6ms/step - loss: 0.1819 - acc: 0.9436 - val_loss: 0.0719 - val_acc: 0.9782\n",
      "Epoch 35/100\n",
      "469/469 [==============================] - 3s 7ms/step - loss: 0.1795 - acc: 0.9447 - val_loss: 0.0703 - val_acc: 0.9785\n",
      "Epoch 36/100\n",
      "469/469 [==============================] - 3s 7ms/step - loss: 0.1822 - acc: 0.9442 - val_loss: 0.0707 - val_acc: 0.9778\n",
      "Epoch 37/100\n",
      "469/469 [==============================] - 3s 7ms/step - loss: 0.1761 - acc: 0.9452 - val_loss: 0.0727 - val_acc: 0.9775\n",
      "Epoch 38/100\n",
      "469/469 [==============================] - 3s 6ms/step - loss: 0.1774 - acc: 0.9459 - val_loss: 0.0725 - val_acc: 0.9773\n",
      "Epoch 39/100\n",
      "469/469 [==============================] - 3s 7ms/step - loss: 0.1746 - acc: 0.9459 - val_loss: 0.0727 - val_acc: 0.9770\n",
      "Epoch 40/100\n",
      "469/469 [==============================] - 3s 7ms/step - loss: 0.1748 - acc: 0.9462 - val_loss: 0.0723 - val_acc: 0.9778\n",
      "Epoch 41/100\n",
      "469/469 [==============================] - 4s 8ms/step - loss: 0.1731 - acc: 0.9461 - val_loss: 0.0720 - val_acc: 0.9784\n",
      "Epoch 42/100\n",
      "469/469 [==============================] - 3s 6ms/step - loss: 0.1745 - acc: 0.9458 - val_loss: 0.0699 - val_acc: 0.9783\n",
      "Epoch 43/100\n",
      "469/469 [==============================] - 3s 7ms/step - loss: 0.1720 - acc: 0.9463 - val_loss: 0.0697 - val_acc: 0.9783\n",
      "Epoch 44/100\n",
      "469/469 [==============================] - 3s 6ms/step - loss: 0.1748 - acc: 0.9450 - val_loss: 0.0724 - val_acc: 0.9787\n",
      "Epoch 45/100\n",
      "469/469 [==============================] - 3s 7ms/step - loss: 0.1707 - acc: 0.9470 - val_loss: 0.0660 - val_acc: 0.9801\n",
      "Epoch 46/100\n",
      "469/469 [==============================] - 3s 7ms/step - loss: 0.1717 - acc: 0.9468 - val_loss: 0.0691 - val_acc: 0.9778\n",
      "Epoch 47/100\n",
      "469/469 [==============================] - 3s 6ms/step - loss: 0.1710 - acc: 0.9466 - val_loss: 0.0683 - val_acc: 0.9779\n",
      "Epoch 48/100\n",
      "469/469 [==============================] - 3s 6ms/step - loss: 0.1695 - acc: 0.9478 - val_loss: 0.0684 - val_acc: 0.9789\n",
      "Epoch 49/100\n",
      "469/469 [==============================] - 3s 6ms/step - loss: 0.1645 - acc: 0.9481 - val_loss: 0.0754 - val_acc: 0.9753\n",
      "Epoch 50/100\n",
      "469/469 [==============================] - 3s 6ms/step - loss: 0.1683 - acc: 0.9483 - val_loss: 0.0700 - val_acc: 0.9779\n",
      "Epoch 51/100\n",
      "469/469 [==============================] - 3s 6ms/step - loss: 0.1687 - acc: 0.9482 - val_loss: 0.0669 - val_acc: 0.9802\n",
      "Epoch 52/100\n",
      "469/469 [==============================] - 3s 6ms/step - loss: 0.1681 - acc: 0.9481 - val_loss: 0.0707 - val_acc: 0.9780\n",
      "Epoch 53/100\n",
      "469/469 [==============================] - 3s 6ms/step - loss: 0.1650 - acc: 0.9492 - val_loss: 0.0688 - val_acc: 0.9787\n",
      "Epoch 54/100\n",
      "469/469 [==============================] - 3s 6ms/step - loss: 0.1641 - acc: 0.9486 - val_loss: 0.0678 - val_acc: 0.9779\n",
      "Epoch 55/100\n",
      "469/469 [==============================] - 3s 6ms/step - loss: 0.1682 - acc: 0.9485 - val_loss: 0.0661 - val_acc: 0.9793\n",
      "Epoch 56/100\n",
      "469/469 [==============================] - 3s 6ms/step - loss: 0.1667 - acc: 0.9480 - val_loss: 0.0680 - val_acc: 0.9790\n",
      "Epoch 57/100\n",
      "469/469 [==============================] - 3s 6ms/step - loss: 0.1638 - acc: 0.9478 - val_loss: 0.0688 - val_acc: 0.9785\n",
      "Epoch 58/100\n",
      "469/469 [==============================] - 3s 6ms/step - loss: 0.1699 - acc: 0.9473 - val_loss: 0.0669 - val_acc: 0.9786\n",
      "Epoch 59/100\n",
      "469/469 [==============================] - 3s 6ms/step - loss: 0.1665 - acc: 0.9489 - val_loss: 0.0665 - val_acc: 0.9795\n",
      "Epoch 60/100\n",
      "469/469 [==============================] - 3s 6ms/step - loss: 0.1639 - acc: 0.9489 - val_loss: 0.0658 - val_acc: 0.9785\n",
      "Epoch 61/100\n",
      "469/469 [==============================] - 3s 7ms/step - loss: 0.1643 - acc: 0.9485 - val_loss: 0.0668 - val_acc: 0.9790\n",
      "Epoch 62/100\n",
      "469/469 [==============================] - 4s 8ms/step - loss: 0.1656 - acc: 0.9488 - val_loss: 0.0644 - val_acc: 0.9798\n",
      "Epoch 63/100\n",
      "469/469 [==============================] - 3s 7ms/step - loss: 0.1651 - acc: 0.9493 - val_loss: 0.0654 - val_acc: 0.9783\n",
      "Epoch 64/100\n",
      "469/469 [==============================] - 3s 7ms/step - loss: 0.1633 - acc: 0.9500 - val_loss: 0.0683 - val_acc: 0.9786\n",
      "Epoch 65/100\n",
      "469/469 [==============================] - 3s 7ms/step - loss: 0.1642 - acc: 0.9492 - val_loss: 0.0665 - val_acc: 0.9780\n",
      "Epoch 66/100\n",
      "469/469 [==============================] - 3s 7ms/step - loss: 0.1624 - acc: 0.9496 - val_loss: 0.0658 - val_acc: 0.9781\n",
      "Epoch 67/100\n",
      "469/469 [==============================] - 3s 7ms/step - loss: 0.1607 - acc: 0.9499 - val_loss: 0.0651 - val_acc: 0.9805\n",
      "Epoch 68/100\n",
      "469/469 [==============================] - 3s 7ms/step - loss: 0.1592 - acc: 0.9503 - val_loss: 0.0637 - val_acc: 0.9799\n",
      "Epoch 69/100\n",
      "469/469 [==============================] - 3s 7ms/step - loss: 0.1628 - acc: 0.9500 - val_loss: 0.0667 - val_acc: 0.9791\n",
      "Epoch 70/100\n",
      "469/469 [==============================] - 3s 7ms/step - loss: 0.1614 - acc: 0.9498 - val_loss: 0.0672 - val_acc: 0.9791\n",
      "Epoch 71/100\n",
      "469/469 [==============================] - 3s 7ms/step - loss: 0.1609 - acc: 0.9501 - val_loss: 0.0631 - val_acc: 0.9807\n",
      "Epoch 72/100\n",
      "469/469 [==============================] - 3s 7ms/step - loss: 0.1655 - acc: 0.9490 - val_loss: 0.0638 - val_acc: 0.9793\n",
      "Epoch 73/100\n",
      "469/469 [==============================] - 3s 7ms/step - loss: 0.1619 - acc: 0.9501 - val_loss: 0.0663 - val_acc: 0.9780\n",
      "Epoch 74/100\n",
      "469/469 [==============================] - 4s 8ms/step - loss: 0.1623 - acc: 0.9489 - val_loss: 0.0686 - val_acc: 0.9781\n",
      "Epoch 75/100\n",
      "469/469 [==============================] - 3s 7ms/step - loss: 0.1592 - acc: 0.9507 - val_loss: 0.0668 - val_acc: 0.9791\n",
      "Epoch 76/100\n",
      "469/469 [==============================] - 3s 7ms/step - loss: 0.1620 - acc: 0.9500 - val_loss: 0.0655 - val_acc: 0.9793\n",
      "Epoch 77/100\n",
      "469/469 [==============================] - 3s 7ms/step - loss: 0.1599 - acc: 0.9501 - val_loss: 0.0647 - val_acc: 0.9793\n",
      "Epoch 78/100\n",
      "469/469 [==============================] - 4s 8ms/step - loss: 0.1624 - acc: 0.9500 - val_loss: 0.0663 - val_acc: 0.9777\n",
      "Epoch 79/100\n",
      "469/469 [==============================] - 4s 8ms/step - loss: 0.1613 - acc: 0.9498 - val_loss: 0.0645 - val_acc: 0.9782\n",
      "Epoch 80/100\n",
      "469/469 [==============================] - 4s 8ms/step - loss: 0.1601 - acc: 0.9498 - val_loss: 0.0639 - val_acc: 0.9792\n",
      "Epoch 81/100\n",
      "469/469 [==============================] - 5s 10ms/step - loss: 0.1596 - acc: 0.9504 - val_loss: 0.0676 - val_acc: 0.9784\n",
      "Epoch 82/100\n",
      "469/469 [==============================] - 5s 10ms/step - loss: 0.1625 - acc: 0.9499 - val_loss: 0.0639 - val_acc: 0.9792\n",
      "Epoch 83/100\n",
      "469/469 [==============================] - 5s 10ms/step - loss: 0.1638 - acc: 0.9495 - val_loss: 0.0674 - val_acc: 0.9778\n",
      "Epoch 84/100\n",
      "469/469 [==============================] - 4s 8ms/step - loss: 0.1593 - acc: 0.9494 - val_loss: 0.0670 - val_acc: 0.9794\n",
      "Epoch 85/100\n",
      "469/469 [==============================] - 3s 7ms/step - loss: 0.1624 - acc: 0.9491 - val_loss: 0.0651 - val_acc: 0.9784\n",
      "Epoch 86/100\n",
      "469/469 [==============================] - 3s 7ms/step - loss: 0.1637 - acc: 0.9500 - val_loss: 0.0631 - val_acc: 0.9794\n",
      "Epoch 87/100\n",
      "469/469 [==============================] - 3s 7ms/step - loss: 0.1623 - acc: 0.9496 - val_loss: 0.0698 - val_acc: 0.9776\n",
      "Epoch 88/100\n",
      "469/469 [==============================] - 3s 7ms/step - loss: 0.1646 - acc: 0.9501 - val_loss: 0.0653 - val_acc: 0.9795\n",
      "Epoch 89/100\n",
      "469/469 [==============================] - 4s 8ms/step - loss: 0.1568 - acc: 0.9513 - val_loss: 0.0644 - val_acc: 0.9795\n",
      "Epoch 90/100\n",
      "469/469 [==============================] - 3s 7ms/step - loss: 0.1603 - acc: 0.9500 - val_loss: 0.0624 - val_acc: 0.9809\n",
      "Epoch 91/100\n",
      "469/469 [==============================] - 5s 10ms/step - loss: 0.1612 - acc: 0.9514 - val_loss: 0.0685 - val_acc: 0.9775\n",
      "Epoch 92/100\n",
      "469/469 [==============================] - 4s 8ms/step - loss: 0.1644 - acc: 0.9488 - val_loss: 0.0688 - val_acc: 0.9777\n",
      "Epoch 93/100\n",
      "469/469 [==============================] - 4s 8ms/step - loss: 0.1603 - acc: 0.9493 - val_loss: 0.0741 - val_acc: 0.9769\n",
      "Epoch 94/100\n",
      "469/469 [==============================] - 4s 8ms/step - loss: 0.1594 - acc: 0.9505 - val_loss: 0.0666 - val_acc: 0.9782\n",
      "Epoch 95/100\n",
      "469/469 [==============================] - 4s 9ms/step - loss: 0.1605 - acc: 0.9515 - val_loss: 0.0648 - val_acc: 0.9797\n",
      "Epoch 96/100\n",
      "469/469 [==============================] - 4s 8ms/step - loss: 0.1561 - acc: 0.9516 - val_loss: 0.0655 - val_acc: 0.9790\n",
      "Epoch 97/100\n",
      "469/469 [==============================] - 4s 8ms/step - loss: 0.1583 - acc: 0.9507 - val_loss: 0.0648 - val_acc: 0.9795\n",
      "Epoch 98/100\n",
      "469/469 [==============================] - 4s 8ms/step - loss: 0.1596 - acc: 0.9510 - val_loss: 0.0717 - val_acc: 0.9781\n",
      "Epoch 99/100\n",
      "469/469 [==============================] - 4s 9ms/step - loss: 0.1601 - acc: 0.9511 - val_loss: 0.0673 - val_acc: 0.9784\n",
      "Epoch 100/100\n",
      "469/469 [==============================] - 4s 8ms/step - loss: 0.1597 - acc: 0.9505 - val_loss: 0.0659 - val_acc: 0.9783\n"
     ]
    },
    {
     "data": {
      "text/plain": [
       "<keras.callbacks.History at 0x15f3a40d0>"
      ]
     },
     "execution_count": 9,
     "metadata": {},
     "output_type": "execute_result"
    }
   ],
   "source": [
    "full_model.fit(X_train, y_train, epochs=100, batch_size=128, validation_data=(X_test, y_test))"
   ]
  },
  {
   "cell_type": "code",
   "execution_count": 10,
   "metadata": {},
   "outputs": [
    {
     "name": "stdout",
     "output_type": "stream",
     "text": [
      "Model: \"model_1\"\n",
      "_________________________________________________________________\n",
      " Layer (type)                Output Shape              Param #   \n",
      "=================================================================\n",
      " input_1 (InputLayer)        [(None, 28, 28, 1)]       0         \n",
      "                                                                 \n",
      " conv2d (Conv2D)             (None, 26, 26, 4)         40        \n",
      "                                                                 \n",
      " re_lu (ReLU)                (None, 26, 26, 4)         0         \n",
      "                                                                 \n",
      " max_pooling2d (MaxPooling2D  (None, 13, 13, 4)        0         \n",
      " )                                                               \n",
      "                                                                 \n",
      " conv2d_1 (Conv2D)           (None, 11, 11, 8)         296       \n",
      "                                                                 \n",
      " re_lu_1 (ReLU)              (None, 11, 11, 8)         0         \n",
      "                                                                 \n",
      " max_pooling2d_1 (MaxPooling  (None, 5, 5, 8)          0         \n",
      " 2D)                                                             \n",
      "                                                                 \n",
      " flatten (Flatten)           (None, 200)               0         \n",
      "                                                                 \n",
      " dropout (Dropout)           (None, 200)               0         \n",
      "                                                                 \n",
      " dense (Dense)               (None, 10)                2010      \n",
      "                                                                 \n",
      "=================================================================\n",
      "Total params: 2,346\n",
      "Trainable params: 2,346\n",
      "Non-trainable params: 0\n",
      "_________________________________________________________________\n"
     ]
    }
   ],
   "source": [
    "model = Model(full_model.input, full_model.layers[-2].output)\n",
    "model.summary()"
   ]
  },
  {
   "cell_type": "code",
   "execution_count": 11,
   "metadata": {},
   "outputs": [],
   "source": [
    "def representative_data_gen():\n",
    "  for input_value in tf.data.Dataset.from_tensor_slices(X_train).batch(1).take(100):\n",
    "    # Model has only one input so each data point has one element.\n",
    "    yield [input_value]"
   ]
  },
  {
   "cell_type": "code",
   "execution_count": 12,
   "metadata": {},
   "outputs": [
    {
     "name": "stderr",
     "output_type": "stream",
     "text": [
      "WARNING:absl:Found untraced functions such as _jit_compiled_convolution_op, _jit_compiled_convolution_op while saving (showing 2 of 2). These functions will not be directly callable after loading.\n"
     ]
    },
    {
     "name": "stdout",
     "output_type": "stream",
     "text": [
      "INFO:tensorflow:Assets written to: /var/folders/gt/sg3v8rd13l52jx91mfbgzbfc0000gn/T/tmpu47z18n5/assets\n"
     ]
    },
    {
     "name": "stderr",
     "output_type": "stream",
     "text": [
      "INFO:tensorflow:Assets written to: /var/folders/gt/sg3v8rd13l52jx91mfbgzbfc0000gn/T/tmpu47z18n5/assets\n",
      "/Users/sty/miniforge3/envs/tf-cpu/lib/python3.9/site-packages/tensorflow/lite/python/convert.py:766: UserWarning: Statistics for quantized inputs were expected, but not specified; continuing anyway.\n",
      "  warnings.warn(\"Statistics for quantized inputs were expected, but not \"\n",
      "2022-12-11 01:20:45.994077: W tensorflow/compiler/mlir/lite/python/tf_tfl_flatbuffer_helpers.cc:362] Ignored output_format.\n",
      "2022-12-11 01:20:45.994091: W tensorflow/compiler/mlir/lite/python/tf_tfl_flatbuffer_helpers.cc:365] Ignored drop_control_dependency.\n",
      "2022-12-11 01:20:45.994249: I tensorflow/cc/saved_model/reader.cc:45] Reading SavedModel from: /var/folders/gt/sg3v8rd13l52jx91mfbgzbfc0000gn/T/tmpu47z18n5\n",
      "2022-12-11 01:20:45.995189: I tensorflow/cc/saved_model/reader.cc:89] Reading meta graph with tags { serve }\n",
      "2022-12-11 01:20:45.995195: I tensorflow/cc/saved_model/reader.cc:130] Reading SavedModel debug info (if present) from: /var/folders/gt/sg3v8rd13l52jx91mfbgzbfc0000gn/T/tmpu47z18n5\n",
      "2022-12-11 01:20:45.997371: I tensorflow/compiler/mlir/mlir_graph_optimization_pass.cc:354] MLIR V1 optimization pass is not enabled\n",
      "2022-12-11 01:20:45.997959: I tensorflow/cc/saved_model/loader.cc:229] Restoring SavedModel bundle.\n",
      "2022-12-11 01:20:46.010122: I tensorflow/cc/saved_model/loader.cc:213] Running initialization op on SavedModel bundle at path: /var/folders/gt/sg3v8rd13l52jx91mfbgzbfc0000gn/T/tmpu47z18n5\n",
      "2022-12-11 01:20:46.015220: I tensorflow/cc/saved_model/loader.cc:305] SavedModel load for tags { serve }; Status: success: OK. Took 20975 microseconds.\n",
      "2022-12-11 01:20:46.025710: I tensorflow/compiler/mlir/tensorflow/utils/dump_mlir_util.cc:268] disabling MLIR crash reproducer, set env var `MLIR_CRASH_REPRODUCER_DIRECTORY` to enable.\n",
      "INFO: Initialized TensorFlow Lite runtime.\n",
      "fully_quantize: 0, inference_type: 6, input_inference_type: FLOAT32, output_inference_type: FLOAT32\n"
     ]
    }
   ],
   "source": [
    "converter = tf.lite.TFLiteConverter.from_keras_model(model)\n",
    "converter.optimizations = [tf.lite.Optimize.DEFAULT]\n",
    "converter.representative_dataset = representative_data_gen\n",
    "converter.target_spec.supported_ops = [tf.lite.OpsSet.TFLITE_BUILTINS_INT8]\n",
    "# converter.inference_input_type = tf.int8\n",
    "# converter.inference_output_type = tf.int8\n",
    "converter._experimental_disable_per_channel = True\n",
    "tflite_quant_model = converter.convert()"
   ]
  },
  {
   "cell_type": "code",
   "execution_count": 13,
   "metadata": {},
   "outputs": [
    {
     "data": {
      "text/plain": [
       "5944"
      ]
     },
     "execution_count": 13,
     "metadata": {},
     "output_type": "execute_result"
    }
   ],
   "source": [
    "import pathlib\n",
    "\n",
    "tflite_models_dir = pathlib.Path(\"./\")\n",
    "# tflite_models_dir.mkdir(exist_ok=True, parents=True)\n",
    "\n",
    "# Save the quantized model:\n",
    "tflite_model_quant_file = tflite_models_dir/\"mnist_convnet_quant.tflite\"\n",
    "tflite_model_quant_file.write_bytes(tflite_quant_model)"
   ]
  },
  {
   "cell_type": "code",
   "execution_count": 14,
   "metadata": {},
   "outputs": [],
   "source": [
    "# Helper function to run inference on a TFLite model\n",
    "def run_tflite_model(tflite_file, test_image_indices):\n",
    "  global X_test\n",
    "\n",
    "  # Initialize the interpreter\n",
    "  interpreter = tf.lite.Interpreter(model_path=str(tflite_file))\n",
    "  interpreter.allocate_tensors()\n",
    "\n",
    "  input_details = interpreter.get_input_details()[0]\n",
    "  output_details = interpreter.get_output_details()[0]\n",
    "\n",
    "  predictions = np.zeros((len(test_image_indices),), dtype=int)\n",
    "  for i, test_image_index in enumerate(test_image_indices):\n",
    "    test_image = X_test[test_image_index]\n",
    "    test_label = y_test[test_image_index]\n",
    "\n",
    "    # Check if the input type is quantized, then rescale input data to uint8\n",
    "    if input_details['dtype'] == np.uint8:\n",
    "      input_scale, input_zero_point = input_details[\"quantization\"]\n",
    "      test_image = test_image / input_scale + input_zero_point\n",
    "\n",
    "    test_image = np.expand_dims(test_image, axis=0).astype(input_details[\"dtype\"])\n",
    "    interpreter.set_tensor(input_details[\"index\"], test_image)\n",
    "    interpreter.invoke()\n",
    "    output = interpreter.get_tensor(output_details[\"index\"])[0]\n",
    "\n",
    "    predictions[i] = output.argmax()\n",
    "\n",
    "  return predictions"
   ]
  },
  {
   "cell_type": "code",
   "execution_count": 15,
   "metadata": {},
   "outputs": [],
   "source": [
    "## Helper function to test the models on one image\n",
    "def test_model(tflite_file, test_image_index, model_type):\n",
    "  global y_test\n",
    "\n",
    "  predictions = run_tflite_model(tflite_file, [test_image_index])\n",
    "\n",
    "  plt.imshow(X_test[test_image_index])\n",
    "  template = model_type + \" Model \\n True:{true}, Predicted:{predict}\"\n",
    "  _ = plt.title(template.format(true= str(y_test[test_image_index].argmax()), predict=str(predictions[0])))\n",
    "  plt.grid(False)"
   ]
  },
  {
   "cell_type": "code",
   "execution_count": 16,
   "metadata": {},
   "outputs": [
    {
     "name": "stderr",
     "output_type": "stream",
     "text": [
      "INFO: Initialized TensorFlow Lite runtime.\n",
      "INFO: Applying 1 TensorFlow Lite delegate(s) lazily.\n"
     ]
    },
    {
     "data": {
      "image/png": "[encoded data removed]",
      "text/plain": [
       "<Figure size 640x480 with 1 Axes>"
      ]
     },
     "metadata": {},
     "output_type": "display_data"
    }
   ],
   "source": [
    "# Change this to test a different image\n",
    "test_image_index = 400\n",
    "test_model(tflite_model_quant_file, test_image_index, model_type=\"Quantized\")"
   ]
  },
  {
   "cell_type": "code",
   "execution_count": 17,
   "metadata": {},
   "outputs": [],
   "source": [
    "# Helper function to evaluate a TFLite model on all images\n",
    "def evaluate_model(tflite_file, model_type):\n",
    "  global X_test\n",
    "  global y_test\n",
    "\n",
    "  test_image_indices = range(X_test.shape[0])\n",
    "  predictions = run_tflite_model(tflite_file, test_image_indices)\n",
    "\n",
    "  accuracy = (np.sum(np.argmax(y_test, axis=1)== predictions) * 100) / len(X_test)\n",
    "\n",
    "  print('%s model accuracy is %.4f%% (Number of test samples=%d)' % (\n",
    "      model_type, accuracy, len(X_test)))"
   ]
  },
  {
   "cell_type": "code",
   "execution_count": 18,
   "metadata": {},
   "outputs": [
    {
     "name": "stderr",
     "output_type": "stream",
     "text": [
      "INFO: Applying 1 TensorFlow Lite delegate(s) lazily.\n"
     ]
    },
    {
     "name": "stdout",
     "output_type": "stream",
     "text": [
      "Quantized model accuracy is 97.9500% (Number of test samples=10000)\n"
     ]
    }
   ],
   "source": [
    "evaluate_model(tflite_model_quant_file, model_type=\"Quantized\")"
   ]
  },
  {
   "cell_type": "code",
   "execution_count": 19,
   "metadata": {},
   "outputs": [
    {
     "data": {
      "text/plain": [
       "['input_1',\n",
       " 'conv2d',\n",
       " 're_lu',\n",
       " 'max_pooling2d',\n",
       " 'conv2d_1',\n",
       " 're_lu_1',\n",
       " 'max_pooling2d_1',\n",
       " 'flatten',\n",
       " 'dropout',\n",
       " 'dense']"
      ]
     },
     "execution_count": 19,
     "metadata": {},
     "output_type": "execute_result"
    }
   ],
   "source": [
    "[l.name for l in model.layers]"
   ]
  },
  {
   "cell_type": "code",
   "execution_count": 20,
   "metadata": {},
   "outputs": [],
   "source": [
    "in_json = {}\n",
    "scale = {}"
   ]
  },
  {
   "cell_type": "code",
   "execution_count": 21,
   "metadata": {},
   "outputs": [
    {
     "name": "stdout",
     "output_type": "stream",
     "text": [
      "== Input details ==\n",
      "name: serving_default_input_1:0\n",
      "shape: [ 1 28 28  1]\n",
      "type: <class 'numpy.float32'>\n",
      "\n",
      "== Output details ==\n",
      "name: StatefulPartitionedCall:0\n",
      "shape: [ 1 10]\n",
      "type: <class 'numpy.float32'>\n",
      "dense_bias (10,) [ 1882  7290 -3220 -3212 -2238 -5057   964 -6501  6977   323] 0.00040966662345454097\n",
      "dense_weights (200, 10) 0.013641951605677605\n",
      "conv2d_1_bias (8,) [ -87  265   -2 -179   -5 -356   -3  -14] 0.0008817124180495739\n",
      "conv2d_1_weights (3, 3, 4, 8) 0.007074496243149042\n",
      "conv2d_bias (4,) [-359   -2   -1    2] 0.0019289110787212849\n",
      "conv2d_weights (3, 3, 1, 4) 0.0019289110787212849\n"
     ]
    },
    {
     "name": "stderr",
     "output_type": "stream",
     "text": [
      "INFO: Applying 1 TensorFlow Lite delegate(s) lazily.\n"
     ]
    }
   ],
   "source": [
    "'''\n",
    "Create interpreter, allocate tensors\n",
    "'''\n",
    "tflite_interpreter = tf.lite.Interpreter(model_content=tflite_quant_model)\n",
    "tflite_interpreter.allocate_tensors()\n",
    "\n",
    "'''\n",
    "Check input/output details\n",
    "'''\n",
    "input_details = tflite_interpreter.get_input_details()\n",
    "output_details = tflite_interpreter.get_output_details()\n",
    "\n",
    "print(\"== Input details ==\")\n",
    "print(\"name:\", input_details[0]['name'])\n",
    "print(\"shape:\", input_details[0]['shape'])\n",
    "print(\"type:\", input_details[0]['dtype'])\n",
    "print(\"\\n== Output details ==\")\n",
    "print(\"name:\", output_details[0]['name'])\n",
    "print(\"shape:\", output_details[0]['shape'])\n",
    "print(\"type:\", output_details[0]['dtype'])\n",
    "\n",
    "'''\n",
    "This gives a list of dictionaries. \n",
    "'''\n",
    "tensor_details = tflite_interpreter.get_tensor_details()\n",
    "\n",
    "for dict in tensor_details:\n",
    "    i = dict['index']\n",
    "    tensor_name = dict['name']\n",
    "    scales = dict['quantization'][0]\n",
    "    zero_points = dict['quantization'][1]\n",
    "    tensor = tflite_interpreter.tensor(i)()\n",
    "\n",
    "    # print(i, type, tensor_name, scales, zero_points)\n",
    "    # print(dict)\n",
    "    if \"model_1/conv2d/Conv2D\" == tensor_name:\n",
    "        weights = tensor\n",
    "        weights = np.rollaxis(weights, 0,4)\n",
    "        in_json['conv2d_weights'] = weights\n",
    "        scale['conv2d_weights'] = scales\n",
    "        print('conv2d_weights', weights.shape, scales)\n",
    "    elif \"model_1/conv2d/BiasAdd/ReadVariableOp\" == tensor_name:\n",
    "        biases = tensor\n",
    "        in_json['conv2d_bias'] = biases.flatten().tolist()\n",
    "        scale['conv2d_bias'] = scales\n",
    "        print('conv2d_bias', biases.shape, biases, scales)\n",
    "    elif \"model_1/conv2d_1/Conv2D\" == tensor_name:\n",
    "        weights = tensor\n",
    "        weights = np.rollaxis(weights, 0,4)\n",
    "        in_json['conv2d_1_weights'] = weights\n",
    "        scale['conv2d_1_weights'] = scales\n",
    "        print('conv2d_1_weights', weights.shape, scales)\n",
    "    elif \"model_1/conv2d_1/BiasAdd/ReadVariableOp\" == tensor_name:\n",
    "        biases = tensor\n",
    "        in_json['conv2d_1_bias'] = biases.flatten().tolist()\n",
    "        scale['conv2d_1_bias'] = scales\n",
    "        print('conv2d_1_bias', biases.shape, biases, scales)\n",
    "    elif \"model_1/dense/MatMul\" == tensor_name:\n",
    "        weights = tensor\n",
    "        weights = np.rollaxis(weights, 1)\n",
    "        in_json['dense_weights'] = weights\n",
    "        scale['dense_weights'] = scales\n",
    "        print('dense_weights', weights.shape, scales)\n",
    "    elif \"model_1/dense/BiasAdd/ReadVariableOp\" == tensor_name:\n",
    "        biases = tensor\n",
    "        in_json['dense_bias'] = biases.flatten().tolist()\n",
    "        scale['dense_bias'] = scales\n",
    "        print('dense_bias', biases.shape, biases, scales)"
   ]
  },
  {
   "cell_type": "code",
   "execution_count": 22,
   "metadata": {},
   "outputs": [
    {
     "data": {
      "text/plain": [
       "dict_keys(['dense_bias', 'dense_weights', 'conv2d_1_bias', 'conv2d_1_weights', 'conv2d_bias', 'conv2d_weights'])"
      ]
     },
     "execution_count": 22,
     "metadata": {},
     "output_type": "execute_result"
    }
   ],
   "source": [
    "in_json.keys()"
   ]
  },
  {
   "cell_type": "code",
   "execution_count": 23,
   "metadata": {},
   "outputs": [
    {
     "data": {
      "text/plain": [
       "{'dense_bias': 0.00040966662345454097,\n",
       " 'dense_weights': 0.013641951605677605,\n",
       " 'conv2d_1_bias': 0.0008817124180495739,\n",
       " 'conv2d_1_weights': 0.007074496243149042,\n",
       " 'conv2d_bias': 0.0019289110787212849,\n",
       " 'conv2d_weights': 0.0019289110787212849}"
      ]
     },
     "execution_count": 23,
     "metadata": {},
     "output_type": "execute_result"
    }
   ],
   "source": [
    "scale"
   ]
  },
  {
   "cell_type": "code",
   "execution_count": 24,
   "metadata": {},
   "outputs": [
    {
     "name": "stdout",
     "output_type": "stream",
     "text": [
      "[   1.   -2. -127.    7.   10.   -2.  -33.    2.   22.  -11.    6.    9.]\n"
     ]
    },
    {
     "data": {
      "text/plain": [
       "[1, -2, -127, 7, 10, -2, -33, 2, 22, -11, 6, 9]"
      ]
     },
     "execution_count": 24,
     "metadata": {},
     "output_type": "execute_result"
    }
   ],
   "source": [
    "in_json['conv2d_weights'] = in_json['conv2d_weights']*(scale['conv2d_weights']/scale['conv2d_bias'])\n",
    "print(in_json['conv2d_weights'][0].flatten())\n",
    "in_json['conv2d_weights'] = in_json['conv2d_weights'].round().astype(int).flatten().tolist()\n",
    "in_json['conv2d_weights'][:12]"
   ]
  },
  {
   "cell_type": "code",
   "execution_count": 25,
   "metadata": {},
   "outputs": [
    {
     "name": "stdout",
     "output_type": "stream",
     "text": [
      "[ -8.02358694  -8.02358694  24.07076082 -48.14152165 -24.07076082\n",
      " 160.47173882  16.04717388  40.1179347 ]\n"
     ]
    },
    {
     "data": {
      "text/plain": [
       "[-8, -8, 24, -48, -24, 160, 16, 40]"
      ]
     },
     "execution_count": 25,
     "metadata": {},
     "output_type": "execute_result"
    }
   ],
   "source": [
    "in_json['conv2d_1_weights'] = in_json['conv2d_1_weights']*(scale['conv2d_1_weights']/scale['conv2d_1_bias'])\n",
    "print(in_json['conv2d_1_weights'][0][0][0].flatten())\n",
    "in_json['conv2d_1_weights'] = in_json['conv2d_1_weights'].round().astype(int).flatten().tolist()\n",
    "in_json['conv2d_1_weights'][:8]"
   ]
  },
  {
   "cell_type": "code",
   "execution_count": 26,
   "metadata": {},
   "outputs": [
    {
     "name": "stdout",
     "output_type": "stream",
     "text": [
      "[ -266.40103586  -133.20051793   632.70246017   366.30142431\n",
      "  -566.1022012  -1431.90556775   266.40103586   266.40103586\n",
      " -1565.10608568 -3429.91333669]\n"
     ]
    },
    {
     "data": {
      "text/plain": [
       "[-266, -133, 633, 366, -566, -1432, 266, 266, -1565, -3430]"
      ]
     },
     "execution_count": 26,
     "metadata": {},
     "output_type": "execute_result"
    }
   ],
   "source": [
    "in_json['dense_weights'] = in_json['dense_weights']*(scale['dense_weights']/scale['dense_bias'])\n",
    "print(in_json['dense_weights'][0].flatten())\n",
    "in_json['dense_weights'] = in_json['dense_weights'].round().astype(int).flatten().tolist()\n",
    "in_json['dense_weights'][:10]"
   ]
  },
  {
   "cell_type": "code",
   "execution_count": 27,
   "metadata": {},
   "outputs": [
    {
     "data": {
      "text/plain": [
       "<matplotlib.image.AxesImage at 0x17b9becd0>"
      ]
     },
     "execution_count": 27,
     "metadata": {},
     "output_type": "execute_result"
    },
    {
     "data": {
      "image/png": "[encoded data removed]",
      "text/plain": [
       "<Figure size 640x480 with 1 Axes>"
      ]
     },
     "metadata": {},
     "output_type": "display_data"
    }
   ],
   "source": [
    "X = X_test[[0]]\n",
    "plt.imshow(X[0])"
   ]
  },
  {
   "cell_type": "code",
   "execution_count": 28,
   "metadata": {},
   "outputs": [
    {
     "name": "stdout",
     "output_type": "stream",
     "text": [
      "1/1 [==============================] - 0s 66ms/step\n"
     ]
    },
    {
     "data": {
      "text/plain": [
       "array([[ -2.8180332 ,  -7.8118086 ,   3.4019184 ,   0.27658188,\n",
       "        -14.287446  , -11.729616  , -29.31386   ,  12.413387  ,\n",
       "         -5.9041095 ,  -2.54478   ]], dtype=float32)"
      ]
     },
     "execution_count": 28,
     "metadata": {},
     "output_type": "execute_result"
    }
   ],
   "source": [
    "y = model.predict(X)\n",
    "y"
   ]
  },
  {
   "cell_type": "code",
   "execution_count": 29,
   "metadata": {},
   "outputs": [],
   "source": [
    "in_json[\"in\"] = X.astype(int).flatten().tolist(),"
   ]
  },
  {
   "cell_type": "code",
   "execution_count": 30,
   "metadata": {},
   "outputs": [
    {
     "data": {
      "text/plain": [
       "{'scale': 6.967384006397277e-10,\n",
       " 'out': [-2.818033218383789,\n",
       "  -7.8118085861206055,\n",
       "  3.401918411254883,\n",
       "  0.27658188343048096,\n",
       "  -14.287446022033691,\n",
       "  -11.729616165161133,\n",
       "  -29.313859939575195,\n",
       "  12.413387298583984,\n",
       "  -5.904109477996826,\n",
       "  -2.5447800159454346],\n",
       " 'label': 7}"
      ]
     },
     "execution_count": 30,
     "metadata": {},
     "output_type": "execute_result"
    }
   ],
   "source": [
    "out_json = {\n",
    "    \"scale\": scale['conv2d_bias']*scale['conv2d_1_bias']*scale['dense_bias'],\n",
    "    \"out\": y.flatten().tolist(),\n",
    "    \"label\": int(y_test[0].argmax())\n",
    "}\n",
    "out_json"
   ]
  },
  {
   "cell_type": "code",
   "execution_count": 31,
   "metadata": {},
   "outputs": [],
   "source": [
    "import json"
   ]
  },
  {
   "cell_type": "code",
   "execution_count": 32,
   "metadata": {},
   "outputs": [],
   "source": [
    "with open(\"mnist_convnet_input.json\", \"w\") as f:\n",
    "    json.dump(in_json, f)"
   ]
  },
  {
   "cell_type": "code",
   "execution_count": 33,
   "metadata": {},
   "outputs": [],
   "source": [
    "with open(\"mnist_convnet_output.json\", \"w\") as f:\n",
    "    json.dump(out_json, f)"
   ]
  },
  {
   "cell_type": "code",
   "execution_count": 34,
   "metadata": {},
   "outputs": [
    {
     "data": {
      "text/plain": [
       "0.04827827630835111"
      ]
     },
     "execution_count": 34,
     "metadata": {},
     "output_type": "execute_result"
    }
   ],
   "source": [
    "# conv2d_weights mape\n",
    "(np.abs((model.weights[0].numpy().flatten()-np.array(in_json['conv2d_weights'])*scale['conv2d_bias'])/model.weights[0].numpy().flatten())).mean()"
   ]
  },
  {
   "cell_type": "code",
   "execution_count": 35,
   "metadata": {},
   "outputs": [
    {
     "data": {
      "text/plain": [
       "0.3162336868466024"
      ]
     },
     "execution_count": 35,
     "metadata": {},
     "output_type": "execute_result"
    }
   ],
   "source": [
    "# conv2d_bias mape\n",
    "(np.abs((model.weights[1].numpy().flatten()-np.array(in_json['conv2d_bias'])*scale['conv2d_bias'])/model.weights[1].numpy().flatten())).mean()"
   ]
  },
  {
   "cell_type": "code",
   "execution_count": 36,
   "metadata": {},
   "outputs": [
    {
     "data": {
      "text/plain": [
       "0.07922936952167237"
      ]
     },
     "execution_count": 36,
     "metadata": {},
     "output_type": "execute_result"
    }
   ],
   "source": [
    "# conv2d_1_weights mape\n",
    "(np.abs((model.weights[2].numpy().flatten()-np.array(in_json['conv2d_1_weights'])*scale['conv2d_1_bias'])/model.weights[2].numpy().flatten())).mean()"
   ]
  },
  {
   "cell_type": "code",
   "execution_count": 37,
   "metadata": {},
   "outputs": [
    {
     "data": {
      "text/plain": [
       "0.0320445054168509"
      ]
     },
     "execution_count": 37,
     "metadata": {},
     "output_type": "execute_result"
    }
   ],
   "source": [
    "# conv2d_1_bias mape\n",
    "(np.abs((model.weights[3].numpy().flatten()-np.array(in_json['conv2d_1_bias'])*scale['conv2d_1_bias'])/model.weights[3].numpy().flatten())).mean()"
   ]
  },
  {
   "cell_type": "code",
   "execution_count": 38,
   "metadata": {},
   "outputs": [
    {
     "data": {
      "text/plain": [
       "0.09156827584568371"
      ]
     },
     "execution_count": 38,
     "metadata": {},
     "output_type": "execute_result"
    }
   ],
   "source": [
    "# dense_weights mape\n",
    "(np.abs((model.weights[4].numpy().flatten()-np.array(in_json['dense_weights'])*scale['dense_bias'])/model.weights[4].numpy().flatten())).mean()"
   ]
  },
  {
   "cell_type": "code",
   "execution_count": 39,
   "metadata": {},
   "outputs": [
    {
     "data": {
      "text/plain": [
       "0.00021858932254896152"
      ]
     },
     "execution_count": 39,
     "metadata": {},
     "output_type": "execute_result"
    }
   ],
   "source": [
    "# dense_bias mape\n",
    "(np.abs((model.weights[5].numpy().flatten()-np.array(in_json['dense_bias'])*scale['dense_bias'])/model.weights[5].numpy().flatten())).mean()"
   ]
  },
  {
   "cell_type": "code",
   "execution_count": null,
   "metadata": {},
   "outputs": [],
   "source": []
  }
 ],
 "metadata": {
  "kernelspec": {
   "display_name": "Python 3.9.13 ('tf-cpu')",
   "language": "python",
   "name": "python3"
  },
  "language_info": {
   "codemirror_mode": {
    "name": "ipython",
    "version": 3
   },
   "file_extension": ".py",
   "mimetype": "text/x-python",
   "name": "python",
   "nbconvert_exporter": "python",
   "pygments_lexer": "ipython3",
   "version": "3.9.15"
  },
  "orig_nbformat": 4,
  "vscode": {
   "interpreter": {
    "hash": "9449095698c6ddbfb01f56d5f26ea4d918be7e2252dcbff228035a3e4c87e117"
   }
  }
 },
 "nbformat": 4,
 "nbformat_minor": 2
}
