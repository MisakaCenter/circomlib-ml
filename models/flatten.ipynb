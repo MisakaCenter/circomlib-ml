{
 "cells": [
  {
   "cell_type": "code",
   "execution_count": 1,
   "metadata": {},
   "outputs": [],
   "source": [
    "from tensorflow.keras.layers import Input, Flatten\n",
    "from tensorflow.keras import Model\n",
    "import numpy as np"
   ]
  },
  {
   "cell_type": "code",
   "execution_count": 2,
   "metadata": {},
   "outputs": [],
   "source": [
    "inputs = Input(shape=(5,5,3))\n",
    "x = Flatten()(inputs)\n",
    "model = Model(inputs, x)"
   ]
  },
  {
   "cell_type": "code",
   "execution_count": 3,
   "metadata": {},
   "outputs": [
    {
     "name": "stdout",
     "output_type": "stream",
     "text": [
      "Model: \"model\"\n",
      "_________________________________________________________________\n",
      " Layer (type)                Output Shape              Param #   \n",
      "=================================================================\n",
      " input_1 (InputLayer)        [(None, 5, 5, 3)]         0         \n",
      "                                                                 \n",
      " flatten (Flatten)           (None, 75)                0         \n",
      "                                                                 \n",
      "=================================================================\n",
      "Total params: 0\n",
      "Trainable params: 0\n",
      "Non-trainable params: 0\n",
      "_________________________________________________________________\n"
     ]
    }
   ],
   "source": [
    "model.summary()"
   ]
  },
  {
   "cell_type": "code",
   "execution_count": 4,
   "metadata": {},
   "outputs": [
    {
     "data": {
      "text/plain": [
       "[]"
      ]
     },
     "execution_count": 4,
     "metadata": {},
     "output_type": "execute_result"
    }
   ],
   "source": [
    "model.weights"
   ]
  },
  {
   "cell_type": "code",
   "execution_count": 5,
   "metadata": {},
   "outputs": [
    {
     "data": {
      "text/plain": [
       "array([[[[-100,  -43,  -51],\n",
       "         [  47, -111,  -94],\n",
       "         [ -79,   85,  -17],\n",
       "         [  88,  -59,    9],\n",
       "         [ -33,  -98,  -35]],\n",
       "\n",
       "        [[  51,  105,   39],\n",
       "         [ -53,   79,  -83],\n",
       "         [  29,  -15,  117],\n",
       "         [ -49, -119,  -50],\n",
       "         [ -55,   91,    8]],\n",
       "\n",
       "        [[ -27,  -89,  -32],\n",
       "         [ -29,   59,  100],\n",
       "         [  11,  -34,   75],\n",
       "         [ -56,   -3,   58],\n",
       "         [ 104,  -37,  -92]],\n",
       "\n",
       "        [[ -92,   93,   38],\n",
       "         [  33,  -42,  -28],\n",
       "         [  32,  103,   56],\n",
       "         [ -30,  -59,   64],\n",
       "         [  94,  113,  117]],\n",
       "\n",
       "        [[ -35,   71,  -76],\n",
       "         [  54, -113,    1],\n",
       "         [  94,   10,   -7],\n",
       "         [ 103,  -83,   51],\n",
       "         [  87,   98,  -59]]]])"
      ]
     },
     "execution_count": 5,
     "metadata": {},
     "output_type": "execute_result"
    }
   ],
   "source": [
    "X = np.random.randint(-127,127, (1,5,5,3))\n",
    "X"
   ]
  },
  {
   "cell_type": "code",
   "execution_count": 6,
   "metadata": {},
   "outputs": [
    {
     "name": "stdout",
     "output_type": "stream",
     "text": [
      "1/1 [==============================] - 0s 115ms/step\n"
     ]
    },
    {
     "name": "stderr",
     "output_type": "stream",
     "text": [
      "2022-12-09 00:40:44.111631: W tensorflow/core/platform/profile_utils/cpu_utils.cc:128] Failed to get CPU frequency: 0 Hz\n"
     ]
    },
    {
     "data": {
      "text/plain": [
       "array([[-100.,  -43.,  -51.,   47., -111.,  -94.,  -79.,   85.,  -17.,\n",
       "          88.,  -59.,    9.,  -33.,  -98.,  -35.,   51.,  105.,   39.,\n",
       "         -53.,   79.,  -83.,   29.,  -15.,  117.,  -49., -119.,  -50.,\n",
       "         -55.,   91.,    8.,  -27.,  -89.,  -32.,  -29.,   59.,  100.,\n",
       "          11.,  -34.,   75.,  -56.,   -3.,   58.,  104.,  -37.,  -92.,\n",
       "         -92.,   93.,   38.,   33.,  -42.,  -28.,   32.,  103.,   56.,\n",
       "         -30.,  -59.,   64.,   94.,  113.,  117.,  -35.,   71.,  -76.,\n",
       "          54., -113.,    1.,   94.,   10.,   -7.,  103.,  -83.,   51.,\n",
       "          87.,   98.,  -59.]], dtype=float32)"
      ]
     },
     "execution_count": 6,
     "metadata": {},
     "output_type": "execute_result"
    }
   ],
   "source": [
    "y = model.predict(X)\n",
    "y"
   ]
  },
  {
   "cell_type": "code",
   "execution_count": 7,
   "metadata": {},
   "outputs": [],
   "source": [
    "in_json = {\n",
    "    \"in\": X.astype(int).flatten().tolist()\n",
    "}"
   ]
  },
  {
   "cell_type": "code",
   "execution_count": 8,
   "metadata": {},
   "outputs": [],
   "source": [
    "out_json = {\n",
    "    \"out\": y.astype(int).flatten().tolist()\n",
    "}"
   ]
  },
  {
   "cell_type": "code",
   "execution_count": 9,
   "metadata": {},
   "outputs": [],
   "source": [
    "import json"
   ]
  },
  {
   "cell_type": "code",
   "execution_count": 10,
   "metadata": {},
   "outputs": [],
   "source": [
    "with open(\"flatten2D_input.json\", \"w\") as f:\n",
    "    json.dump(in_json, f)"
   ]
  },
  {
   "cell_type": "code",
   "execution_count": 11,
   "metadata": {},
   "outputs": [],
   "source": [
    "with open(\"flatten2D_output.json\", \"w\") as f:\n",
    "    json.dump(out_json, f)"
   ]
  },
  {
   "cell_type": "code",
   "execution_count": null,
   "metadata": {},
   "outputs": [],
   "source": []
  }
 ],
 "metadata": {
  "kernelspec": {
   "display_name": "Python 3.9.13 ('tf-cpu')",
   "language": "python",
   "name": "python3"
  },
  "language_info": {
   "codemirror_mode": {
    "name": "ipython",
    "version": 3
   },
   "file_extension": ".py",
   "mimetype": "text/x-python",
   "name": "python",
   "nbconvert_exporter": "python",
   "pygments_lexer": "ipython3",
   "version": "3.9.15"
  },
  "orig_nbformat": 4,
  "vscode": {
   "interpreter": {
    "hash": "9449095698c6ddbfb01f56d5f26ea4d918be7e2252dcbff228035a3e4c87e117"
   }
  }
 },
 "nbformat": 4,
 "nbformat_minor": 2
}
