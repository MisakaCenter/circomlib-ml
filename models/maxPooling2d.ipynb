{
 "cells": [
  {
   "cell_type": "code",
   "execution_count": 1,
   "metadata": {},
   "outputs": [],
   "source": [
    "from tensorflow.keras.layers import Input, MaxPooling2D\n",
    "from tensorflow.keras import Model\n",
    "import numpy as np"
   ]
  },
  {
   "cell_type": "code",
   "execution_count": 2,
   "metadata": {},
   "outputs": [],
   "source": [
    "inputs = Input(shape=(5,5,3))\n",
    "x = MaxPooling2D(pool_size=2)(inputs)\n",
    "model = Model(inputs, x)"
   ]
  },
  {
   "cell_type": "code",
   "execution_count": 3,
   "metadata": {},
   "outputs": [
    {
     "name": "stdout",
     "output_type": "stream",
     "text": [
      "Model: \"model\"\n",
      "_________________________________________________________________\n",
      " Layer (type)                Output Shape              Param #   \n",
      "=================================================================\n",
      " input_1 (InputLayer)        [(None, 5, 5, 3)]         0         \n",
      "                                                                 \n",
      " max_pooling2d (MaxPooling2D  (None, 2, 2, 3)          0         \n",
      " )                                                               \n",
      "                                                                 \n",
      "=================================================================\n",
      "Total params: 0\n",
      "Trainable params: 0\n",
      "Non-trainable params: 0\n",
      "_________________________________________________________________\n"
     ]
    }
   ],
   "source": [
    "model.summary()"
   ]
  },
  {
   "cell_type": "code",
   "execution_count": 4,
   "metadata": {},
   "outputs": [
    {
     "data": {
      "text/plain": [
       "array([[[[ -17,   98,  -17],\n",
       "         [-122, -101,   75],\n",
       "         [  62,    0,   58],\n",
       "         [ -76,   16,   88],\n",
       "         [ -43,  -40,   67]],\n",
       "\n",
       "        [[ -29,   96,   90],\n",
       "         [ -64,   -9,  -16],\n",
       "         [  10,   37,  -77],\n",
       "         [ -72,   91,    6],\n",
       "         [  84,  -47, -119]],\n",
       "\n",
       "        [[ -30,   48,  -48],\n",
       "         [-113,  -72,   73],\n",
       "         [ -34,   96,   62],\n",
       "         [ -18,   85,    0],\n",
       "         [  -5,   77,  -16]],\n",
       "\n",
       "        [[ -87,  -70,  -49],\n",
       "         [ -80,   22,  -35],\n",
       "         [ 117,  -20,   41],\n",
       "         [ -18,  -70,   91],\n",
       "         [  -7,   77,  -53]],\n",
       "\n",
       "        [[ -19,   35,   75],\n",
       "         [-120,  107,   54],\n",
       "         [  13,   71,   84],\n",
       "         [ -49,  -46,   81],\n",
       "         [  88,   81,  118]]]])"
      ]
     },
     "execution_count": 4,
     "metadata": {},
     "output_type": "execute_result"
    }
   ],
   "source": [
    "X = np.random.randint(-127, 127, (1,5,5,3))\n",
    "X"
   ]
  },
  {
   "cell_type": "code",
   "execution_count": 5,
   "metadata": {},
   "outputs": [
    {
     "name": "stdout",
     "output_type": "stream",
     "text": [
      "1/1 [==============================] - 0s 42ms/step\n"
     ]
    },
    {
     "name": "stderr",
     "output_type": "stream",
     "text": [
      "2022-12-09 00:42:59.470616: W tensorflow/core/platform/profile_utils/cpu_utils.cc:128] Failed to get CPU frequency: 0 Hz\n"
     ]
    },
    {
     "data": {
      "text/plain": [
       "array([[[[-17.,  98.,  90.],\n",
       "         [ 62.,  91.,  88.]],\n",
       "\n",
       "        [[-30.,  48.,  73.],\n",
       "         [117.,  96.,  91.]]]], dtype=float32)"
      ]
     },
     "execution_count": 5,
     "metadata": {},
     "output_type": "execute_result"
    }
   ],
   "source": [
    "y = model.predict(X)\n",
    "y"
   ]
  },
  {
   "cell_type": "code",
   "execution_count": 6,
   "metadata": {},
   "outputs": [],
   "source": [
    "in_json = {\n",
    "    \"in\": X.astype(int).flatten().tolist()\n",
    "}"
   ]
  },
  {
   "cell_type": "code",
   "execution_count": 7,
   "metadata": {},
   "outputs": [],
   "source": [
    "out_json = {\n",
    "    \"out\": y.astype(int).flatten().tolist()\n",
    "}"
   ]
  },
  {
   "cell_type": "code",
   "execution_count": 8,
   "metadata": {},
   "outputs": [],
   "source": [
    "import json"
   ]
  },
  {
   "cell_type": "code",
   "execution_count": 9,
   "metadata": {},
   "outputs": [],
   "source": [
    "with open(\"maxPooling2D_input.json\", \"w\") as f:\n",
    "    json.dump(in_json, f)"
   ]
  },
  {
   "cell_type": "code",
   "execution_count": 10,
   "metadata": {},
   "outputs": [],
   "source": [
    "with open(\"maxPooling2D_output.json\", \"w\") as f:\n",
    "    json.dump(out_json, f)"
   ]
  },
  {
   "cell_type": "code",
   "execution_count": 11,
   "metadata": {},
   "outputs": [],
   "source": [
    "inputs = Input(shape=(10,10,3))\n",
    "x = MaxPooling2D(pool_size=2, strides=3)(inputs)\n",
    "model = Model(inputs, x)"
   ]
  },
  {
   "cell_type": "code",
   "execution_count": 12,
   "metadata": {},
   "outputs": [
    {
     "name": "stdout",
     "output_type": "stream",
     "text": [
      "Model: \"model_1\"\n",
      "_________________________________________________________________\n",
      " Layer (type)                Output Shape              Param #   \n",
      "=================================================================\n",
      " input_2 (InputLayer)        [(None, 10, 10, 3)]       0         \n",
      "                                                                 \n",
      " max_pooling2d_1 (MaxPooling  (None, 3, 3, 3)          0         \n",
      " 2D)                                                             \n",
      "                                                                 \n",
      "=================================================================\n",
      "Total params: 0\n",
      "Trainable params: 0\n",
      "Non-trainable params: 0\n",
      "_________________________________________________________________\n"
     ]
    }
   ],
   "source": [
    "model.summary()"
   ]
  },
  {
   "cell_type": "code",
   "execution_count": 13,
   "metadata": {},
   "outputs": [
    {
     "data": {
      "text/plain": [
       "array([[[[  93,  -38,  -77],\n",
       "         [ -50,    5,   26],\n",
       "         [-108,    1, -109],\n",
       "         [-110,   90,  -83],\n",
       "         [  32,  -10,   67],\n",
       "         [  49,  -26, -113],\n",
       "         [ -26, -110,  100],\n",
       "         [ -68,   33,  -43],\n",
       "         [  16,   91,  -44],\n",
       "         [ 119,   21,   33]],\n",
       "\n",
       "        [[-112,   94,   -3],\n",
       "         [  39,  -73,  125],\n",
       "         [ -99,  -81,   64],\n",
       "         [   1,   20,   44],\n",
       "         [ -29,  -66, -127],\n",
       "         [   7,  108,  -75],\n",
       "         [-121,  -82,   80],\n",
       "         [ -46,  -17,  -41],\n",
       "         [ -86,  -44,  -76],\n",
       "         [  21,  -88,   44]],\n",
       "\n",
       "        [[-122, -118,   29],\n",
       "         [   3,   80,  -76],\n",
       "         [-101,  123,   16],\n",
       "         [-121,  -40,   72],\n",
       "         [ -55,   49,   28],\n",
       "         [ -91,   39,   26],\n",
       "         [  65,  -14,  -41],\n",
       "         [ 104,  -70,  -10],\n",
       "         [-105,  -44,  -78],\n",
       "         [  48,  -26,   15]],\n",
       "\n",
       "        [[  14,   -6,    1],\n",
       "         [ -28,  122,    7],\n",
       "         [  20,   74,   49],\n",
       "         [ -24,  -82,   80],\n",
       "         [ -36,   54, -124],\n",
       "         [ -41,  125,  -92],\n",
       "         [ 125,  -48,   48],\n",
       "         [ 110,   48,   30],\n",
       "         [ -35,  125,   81],\n",
       "         [   9,  -38,   50]],\n",
       "\n",
       "        [[  42,  -93,  -90],\n",
       "         [ -78,  -14, -105],\n",
       "         [  30,   29,   62],\n",
       "         [  27,  125,   13],\n",
       "         [  48,  -14,   43],\n",
       "         [-117,   87,  124],\n",
       "         [ -38,   11,  118],\n",
       "         [ -90,  -99, -111],\n",
       "         [ -30,  -11,  -31],\n",
       "         [ 110,   45,   49]],\n",
       "\n",
       "        [[  14,   60,  109],\n",
       "         [ -51,  -14,  -16],\n",
       "         [ 108,    5,  -77],\n",
       "         [ 125,    0,  -50],\n",
       "         [  49,  -23,  -80],\n",
       "         [  83,  -30,   64],\n",
       "         [-124, -124, -118],\n",
       "         [ 105,  103,  100],\n",
       "         [ -32,   16,   67],\n",
       "         [  94, -121,   86]],\n",
       "\n",
       "        [[ -88, -117, -116],\n",
       "         [ -24,   88,  -45],\n",
       "         [  89,   56,   70],\n",
       "         [  18,   22,  -39],\n",
       "         [-114,  114,  -37],\n",
       "         [ -92, -111,   49],\n",
       "         [  43,   28,   80],\n",
       "         [-109,  -64,  -37],\n",
       "         [ -72,   26,  114],\n",
       "         [ -32,    5,  -35]],\n",
       "\n",
       "        [[ 110,   32,   20],\n",
       "         [ -40,  121,   58],\n",
       "         [ -61,  105, -105],\n",
       "         [ -83,  -84,   51],\n",
       "         [ -57,  -52,  -71],\n",
       "         [ -13,  116,  -57],\n",
       "         [ -63,  -17,  110],\n",
       "         [  45,  -58,   63],\n",
       "         [  38,  -79,  -68],\n",
       "         [ -96,  -79,   32]],\n",
       "\n",
       "        [[  51,   25,  -64],\n",
       "         [-120,  115,  -33],\n",
       "         [ -16,  -51, -112],\n",
       "         [-111,   25,    6],\n",
       "         [  18, -120,  118],\n",
       "         [ -99, -112,   90],\n",
       "         [ -65,  123,  -63],\n",
       "         [ -43,  -74,  -79],\n",
       "         [  16,  -13,   33],\n",
       "         [-106,  -13,    4]],\n",
       "\n",
       "        [[ -93,  103,  -26],\n",
       "         [ -49,   -8,  -53],\n",
       "         [   0,  120,   17],\n",
       "         [ -37,   93, -102],\n",
       "         [  63,   14,   90],\n",
       "         [  27,  -16,  -72],\n",
       "         [  88,   97,   70],\n",
       "         [  90,   13,   40],\n",
       "         [  62,   -6,  122],\n",
       "         [ 106,   32,  -15]]]])"
      ]
     },
     "execution_count": 13,
     "metadata": {},
     "output_type": "execute_result"
    }
   ],
   "source": [
    "X = np.random.randint(-127, 127, (1,10,10,3))\n",
    "X"
   ]
  },
  {
   "cell_type": "code",
   "execution_count": 14,
   "metadata": {},
   "outputs": [
    {
     "name": "stdout",
     "output_type": "stream",
     "text": [
      "1/1 [==============================] - 0s 20ms/step\n"
     ]
    },
    {
     "data": {
      "text/plain": [
       "array([[[[ 93.,  94., 125.],\n",
       "         [ 32.,  90.,  67.],\n",
       "         [-26.,  33., 100.]],\n",
       "\n",
       "        [[ 42., 122.,   7.],\n",
       "         [ 48., 125.,  80.],\n",
       "         [125.,  48., 118.]],\n",
       "\n",
       "        [[110., 121.,  58.],\n",
       "         [ 18., 114.,  51.],\n",
       "         [ 45.,  28., 110.]]]], dtype=float32)"
      ]
     },
     "execution_count": 14,
     "metadata": {},
     "output_type": "execute_result"
    }
   ],
   "source": [
    "y = model.predict(X)\n",
    "y"
   ]
  },
  {
   "cell_type": "code",
   "execution_count": 15,
   "metadata": {},
   "outputs": [],
   "source": [
    "in_json = {\n",
    "    \"in\": X.astype(int).flatten().tolist()\n",
    "}"
   ]
  },
  {
   "cell_type": "code",
   "execution_count": 16,
   "metadata": {},
   "outputs": [],
   "source": [
    "out_json = {\n",
    "    \"out\": y.astype(int).flatten().tolist()\n",
    "}"
   ]
  },
  {
   "cell_type": "code",
   "execution_count": 17,
   "metadata": {},
   "outputs": [],
   "source": [
    "with open(\"maxPooling2D_stride_input.json\", \"w\") as f:\n",
    "    json.dump(in_json, f)"
   ]
  },
  {
   "cell_type": "code",
   "execution_count": 18,
   "metadata": {},
   "outputs": [],
   "source": [
    "with open(\"maxPooling2D_stride_output.json\", \"w\") as f:\n",
    "    json.dump(out_json, f)"
   ]
  },
  {
   "cell_type": "code",
   "execution_count": null,
   "metadata": {},
   "outputs": [],
   "source": []
  }
 ],
 "metadata": {
  "kernelspec": {
   "display_name": "Python 3.9.13 ('tf-cpu')",
   "language": "python",
   "name": "python3"
  },
  "language_info": {
   "codemirror_mode": {
    "name": "ipython",
    "version": 3
   },
   "file_extension": ".py",
   "mimetype": "text/x-python",
   "name": "python",
   "nbconvert_exporter": "python",
   "pygments_lexer": "ipython3",
   "version": "3.9.15"
  },
  "orig_nbformat": 4,
  "vscode": {
   "interpreter": {
    "hash": "9449095698c6ddbfb01f56d5f26ea4d918be7e2252dcbff228035a3e4c87e117"
   }
  }
 },
 "nbformat": 4,
 "nbformat_minor": 2
}
