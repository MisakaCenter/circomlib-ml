{
 "cells": [
  {
   "cell_type": "code",
   "execution_count": 1,
   "metadata": {},
   "outputs": [],
   "source": [
    "import tensorflow as tf\n",
    "from tensorflow.keras.layers import Input, BatchNormalization, Dense, Flatten, Softmax\n",
    "from tensorflow.keras import Model\n",
    "from tensorflow.keras.datasets import cifar10\n",
    "from tensorflow.keras.utils import to_categorical\n",
    "import numpy as np\n",
    "import matplotlib.pyplot as plt"
   ]
  },
  {
   "cell_type": "code",
   "execution_count": 2,
   "metadata": {},
   "outputs": [],
   "source": [
    "(X_train, y_train), (X_test, y_test) = cifar10.load_data()"
   ]
  },
  {
   "cell_type": "code",
   "execution_count": 3,
   "metadata": {},
   "outputs": [],
   "source": [
    "# Convert y_train into one-hot format\n",
    "temp = []\n",
    "for i in range(len(y_train)):\n",
    "    temp.append(to_categorical(y_train[i], num_classes=10)[0])\n",
    "y_train = np.array(temp)\n",
    "# Convert y_test into one-hot format\n",
    "temp = []\n",
    "for i in range(len(y_test)):    \n",
    "    temp.append(to_categorical(y_test[i], num_classes=10)[0])\n",
    "y_test = np.array(temp)"
   ]
  },
  {
   "cell_type": "code",
   "execution_count": 4,
   "metadata": {},
   "outputs": [],
   "source": [
    "#reshaping\n",
    "X_train = X_train.astype(np.float32)\n",
    "X_test = X_test.astype(np.float32)"
   ]
  },
  {
   "cell_type": "code",
   "execution_count": 5,
   "metadata": {},
   "outputs": [],
   "source": [
    "inputs = Input(shape=(32,32,3))\n",
    "out = BatchNormalization()(inputs)\n",
    "out = Flatten()(out)\n",
    "out = Dense(10, activation=None)(out)\n",
    "out = Softmax()(out)\n",
    "full_model = Model(inputs, out)"
   ]
  },
  {
   "cell_type": "code",
   "execution_count": 6,
   "metadata": {},
   "outputs": [],
   "source": [
    "full_model.compile(\n",
    "    loss='categorical_crossentropy',\n",
    "    optimizer='adam',\n",
    "    metrics=['acc']\n",
    "    )"
   ]
  },
  {
   "cell_type": "code",
   "execution_count": 7,
   "metadata": {},
   "outputs": [
    {
     "name": "stdout",
     "output_type": "stream",
     "text": [
      "Epoch 1/15\n"
     ]
    },
    {
     "name": "stderr",
     "output_type": "stream",
     "text": [
      "2022-12-08 23:31:46.750637: W tensorflow/core/platform/profile_utils/cpu_utils.cc:128] Failed to get CPU frequency: 0 Hz\n"
     ]
    },
    {
     "name": "stdout",
     "output_type": "stream",
     "text": [
      "391/391 [==============================] - 2s 6ms/step - loss: 1.9325 - acc: 0.3411 - val_loss: 1.8102 - val_acc: 0.3692\n",
      "Epoch 2/15\n",
      "391/391 [==============================] - 3s 7ms/step - loss: 1.7884 - acc: 0.3842 - val_loss: 1.8120 - val_acc: 0.3723\n",
      "Epoch 3/15\n",
      "391/391 [==============================] - 2s 6ms/step - loss: 1.7473 - acc: 0.3989 - val_loss: 1.7791 - val_acc: 0.3862\n",
      "Epoch 4/15\n",
      "391/391 [==============================] - 3s 7ms/step - loss: 1.7211 - acc: 0.4124 - val_loss: 1.7577 - val_acc: 0.3897\n",
      "Epoch 5/15\n",
      "391/391 [==============================] - 2s 6ms/step - loss: 1.7079 - acc: 0.4144 - val_loss: 1.7662 - val_acc: 0.3864\n",
      "Epoch 6/15\n",
      "391/391 [==============================] - 2s 5ms/step - loss: 1.6977 - acc: 0.4164 - val_loss: 1.7524 - val_acc: 0.3932\n",
      "Epoch 7/15\n",
      "391/391 [==============================] - 2s 5ms/step - loss: 1.6914 - acc: 0.4190 - val_loss: 1.7497 - val_acc: 0.3873\n",
      "Epoch 8/15\n",
      "391/391 [==============================] - 2s 5ms/step - loss: 1.6852 - acc: 0.4237 - val_loss: 1.7584 - val_acc: 0.3859\n",
      "Epoch 9/15\n",
      "391/391 [==============================] - 2s 5ms/step - loss: 1.6796 - acc: 0.4263 - val_loss: 1.7365 - val_acc: 0.3977\n",
      "Epoch 10/15\n",
      "391/391 [==============================] - 2s 5ms/step - loss: 1.6792 - acc: 0.4254 - val_loss: 1.7269 - val_acc: 0.4087\n",
      "Epoch 11/15\n",
      "391/391 [==============================] - 2s 5ms/step - loss: 1.6762 - acc: 0.4299 - val_loss: 1.7294 - val_acc: 0.4083\n",
      "Epoch 12/15\n",
      "391/391 [==============================] - 2s 5ms/step - loss: 1.6727 - acc: 0.4290 - val_loss: 1.7287 - val_acc: 0.4017\n",
      "Epoch 13/15\n",
      "391/391 [==============================] - 2s 5ms/step - loss: 1.6694 - acc: 0.4294 - val_loss: 1.7400 - val_acc: 0.3996\n",
      "Epoch 14/15\n",
      "391/391 [==============================] - 2s 5ms/step - loss: 1.6694 - acc: 0.4315 - val_loss: 1.7263 - val_acc: 0.4075\n",
      "Epoch 15/15\n",
      "391/391 [==============================] - 2s 5ms/step - loss: 1.6639 - acc: 0.4327 - val_loss: 1.7222 - val_acc: 0.4061\n"
     ]
    },
    {
     "data": {
      "text/plain": [
       "<keras.callbacks.History at 0x287e82760>"
      ]
     },
     "execution_count": 7,
     "metadata": {},
     "output_type": "execute_result"
    }
   ],
   "source": [
    "full_model.fit(X_train, y_train, epochs=15, batch_size=128, validation_data=(X_test, y_test))"
   ]
  },
  {
   "cell_type": "code",
   "execution_count": 8,
   "metadata": {},
   "outputs": [
    {
     "name": "stdout",
     "output_type": "stream",
     "text": [
      "Model: \"model_1\"\n",
      "_________________________________________________________________\n",
      " Layer (type)                Output Shape              Param #   \n",
      "=================================================================\n",
      " input_1 (InputLayer)        [(None, 32, 32, 3)]       0         \n",
      "                                                                 \n",
      " batch_normalization (BatchN  (None, 32, 32, 3)        12        \n",
      " ormalization)                                                   \n",
      "                                                                 \n",
      "=================================================================\n",
      "Total params: 12\n",
      "Trainable params: 6\n",
      "Non-trainable params: 6\n",
      "_________________________________________________________________\n"
     ]
    }
   ],
   "source": [
    "model = Model(full_model.input, full_model.layers[1].output)\n",
    "model.summary()"
   ]
  },
  {
   "cell_type": "code",
   "execution_count": 9,
   "metadata": {},
   "outputs": [],
   "source": [
    "def representative_data_gen():\n",
    "  for input_value in tf.data.Dataset.from_tensor_slices(X_train).batch(1).take(100):\n",
    "    # Model has only one input so each data point has one element.\n",
    "    yield [input_value]"
   ]
  },
  {
   "cell_type": "code",
   "execution_count": 10,
   "metadata": {},
   "outputs": [
    {
     "name": "stdout",
     "output_type": "stream",
     "text": [
      "INFO:tensorflow:Assets written to: /var/folders/gt/sg3v8rd13l52jx91mfbgzbfc0000gn/T/tmp9hh3wvtw/assets\n"
     ]
    },
    {
     "name": "stderr",
     "output_type": "stream",
     "text": [
      "/Users/sty/miniforge3/envs/tf-cpu/lib/python3.9/site-packages/tensorflow/lite/python/convert.py:766: UserWarning: Statistics for quantized inputs were expected, but not specified; continuing anyway.\n",
      "  warnings.warn(\"Statistics for quantized inputs were expected, but not \"\n",
      "2022-12-08 23:32:20.637174: W tensorflow/compiler/mlir/lite/python/tf_tfl_flatbuffer_helpers.cc:362] Ignored output_format.\n",
      "2022-12-08 23:32:20.637185: W tensorflow/compiler/mlir/lite/python/tf_tfl_flatbuffer_helpers.cc:365] Ignored drop_control_dependency.\n",
      "2022-12-08 23:32:20.637320: I tensorflow/cc/saved_model/reader.cc:45] Reading SavedModel from: /var/folders/gt/sg3v8rd13l52jx91mfbgzbfc0000gn/T/tmp9hh3wvtw\n",
      "2022-12-08 23:32:20.637717: I tensorflow/cc/saved_model/reader.cc:89] Reading meta graph with tags { serve }\n",
      "2022-12-08 23:32:20.637722: I tensorflow/cc/saved_model/reader.cc:130] Reading SavedModel debug info (if present) from: /var/folders/gt/sg3v8rd13l52jx91mfbgzbfc0000gn/T/tmp9hh3wvtw\n",
      "2022-12-08 23:32:20.638754: I tensorflow/compiler/mlir/mlir_graph_optimization_pass.cc:354] MLIR V1 optimization pass is not enabled\n",
      "2022-12-08 23:32:20.639101: I tensorflow/cc/saved_model/loader.cc:229] Restoring SavedModel bundle.\n",
      "2022-12-08 23:32:20.648193: I tensorflow/cc/saved_model/loader.cc:213] Running initialization op on SavedModel bundle at path: /var/folders/gt/sg3v8rd13l52jx91mfbgzbfc0000gn/T/tmp9hh3wvtw\n",
      "2022-12-08 23:32:20.651311: I tensorflow/cc/saved_model/loader.cc:305] SavedModel load for tags { serve }; Status: success: OK. Took 13994 microseconds.\n",
      "2022-12-08 23:32:20.658066: I tensorflow/compiler/mlir/tensorflow/utils/dump_mlir_util.cc:268] disabling MLIR crash reproducer, set env var `MLIR_CRASH_REPRODUCER_DIRECTORY` to enable.\n",
      "INFO: Initialized TensorFlow Lite runtime.\n",
      "fully_quantize: 0, inference_type: 6, input_inference_type: FLOAT32, output_inference_type: FLOAT32\n"
     ]
    }
   ],
   "source": [
    "converter = tf.lite.TFLiteConverter.from_keras_model(model)\n",
    "converter.optimizations = [tf.lite.Optimize.DEFAULT]\n",
    "converter.representative_dataset = representative_data_gen\n",
    "converter.target_spec.supported_ops = [tf.lite.OpsSet.TFLITE_BUILTINS_INT8]\n",
    "# converter.inference_input_type = tf.int8\n",
    "# converter.inference_output_type = tf.int8\n",
    "converter._experimental_disable_per_channel = True\n",
    "tflite_quant_model = converter.convert()"
   ]
  },
  {
   "cell_type": "code",
   "execution_count": 11,
   "metadata": {},
   "outputs": [
    {
     "name": "stdout",
     "output_type": "stream",
     "text": [
      "== Input details ==\n",
      "name: serving_default_input_1:0\n",
      "shape: [ 1 32 32  3]\n",
      "type: <class 'numpy.float32'>\n",
      "\n",
      "== Output details ==\n",
      "name: StatefulPartitionedCall:0\n",
      "shape: [ 1 32 32  3]\n",
      "type: <class 'numpy.float32'>\n",
      "{'name': 'serving_default_input_1:0', 'index': 0, 'shape': array([ 1, 32, 32,  3], dtype=int32), 'shape_signature': array([-1, 32, 32,  3], dtype=int32), 'dtype': <class 'numpy.float32'>, 'quantization': (0.0, 0), 'quantization_parameters': {'scales': array([], dtype=float32), 'zero_points': array([], dtype=int32), 'quantized_dimension': 0}, 'sparsity_parameters': {}}\n",
      "{'name': 'model_1/batch_normalization/FusedBatchNormV31', 'index': 1, 'shape': array([3], dtype=int32), 'shape_signature': array([3], dtype=int32), 'dtype': <class 'numpy.int8'>, 'quantization': (0.0018431608332321048, 127), 'quantization_parameters': {'scales': array([0.00184316], dtype=float32), 'zero_points': array([127], dtype=int32), 'quantized_dimension': 0}, 'sparsity_parameters': {}}\n",
      "{'name': 'model_1/batch_normalization/FusedBatchNormV3', 'index': 2, 'shape': array([3], dtype=int32), 'shape_signature': array([3], dtype=int32), 'dtype': <class 'numpy.int8'>, 'quantization': (1.5593883290421218e-05, -128), 'quantization_parameters': {'scales': array([1.5593883e-05], dtype=float32), 'zero_points': array([-128], dtype=int32), 'quantized_dimension': 0}, 'sparsity_parameters': {}}\n",
      "{'name': 'tfl.quantize', 'index': 3, 'shape': array([ 1, 32, 32,  3], dtype=int32), 'shape_signature': array([-1, 32, 32,  3], dtype=int32), 'dtype': <class 'numpy.int8'>, 'quantization': (1.0, -128), 'quantization_parameters': {'scales': array([1.], dtype=float32), 'zero_points': array([-128], dtype=int32), 'quantized_dimension': 0}, 'sparsity_parameters': {}}\n",
      "{'name': 'model_1/batch_normalization/FusedBatchNormV32', 'index': 4, 'shape': array([ 1, 32, 32,  3], dtype=int32), 'shape_signature': array([-1, 32, 32,  3], dtype=int32), 'dtype': <class 'numpy.int8'>, 'quantization': (0.00397644005715847, -128), 'quantization_parameters': {'scales': array([0.00397644], dtype=float32), 'zero_points': array([-128], dtype=int32), 'quantized_dimension': 0}, 'sparsity_parameters': {}}\n",
      "[[[[ -63    0    0]\n",
      "   [   0    0    0]\n",
      "   [   0    0  -48]\n",
      "   ...\n",
      "   [   0    0    0]\n",
      "   [   0    0    0]\n",
      "   [   0    0    0]]\n",
      "\n",
      "  [[   0    0    0]\n",
      "   [   0    0    0]\n",
      "   [   0    0   34]\n",
      "   ...\n",
      "   [   0    1    0]\n",
      "   [   0    0    0]\n",
      "   [   0    0    0]]\n",
      "\n",
      "  [[   0    0    0]\n",
      "   [   0    0    0]\n",
      "   [   0    0   37]\n",
      "   ...\n",
      "   [   0   37    0]\n",
      "   [   0    0    4]\n",
      "   [   0    0    0]]\n",
      "\n",
      "  ...\n",
      "\n",
      "  [[  38    0    0]\n",
      "   [   0   30    0]\n",
      "   [   0    0   38]\n",
      "   ...\n",
      "   [   0  -96  -16]\n",
      "   [-120   43    1]\n",
      "   [   0    0    0]]\n",
      "\n",
      "  [[  75    4    0]\n",
      "   [   0    0    0]\n",
      "   [   0    0  -64]\n",
      "   ...\n",
      "   [   0    0    0]\n",
      "   [   0    0    0]\n",
      "   [   0    0    0]]\n",
      "\n",
      "  [[   1    0    0]\n",
      "   [   0    0    0]\n",
      "   [   0    0    9]\n",
      "   ...\n",
      "   [   0  -64  -15]\n",
      "   [-120   43    1]\n",
      "   [   0    0    0]]]]\n",
      "{'name': 'StatefulPartitionedCall:01', 'index': 5, 'shape': array([ 1, 32, 32,  3], dtype=int32), 'shape_signature': array([-1, 32, 32,  3], dtype=int32), 'dtype': <class 'numpy.int8'>, 'quantization': (0.00397644005715847, -10), 'quantization_parameters': {'scales': array([0.00397644], dtype=float32), 'zero_points': array([-10], dtype=int32), 'quantized_dimension': 0}, 'sparsity_parameters': {}}\n",
      "{'name': 'StatefulPartitionedCall:0', 'index': 6, 'shape': array([ 1, 32, 32,  3], dtype=int32), 'shape_signature': array([-1, 32, 32,  3], dtype=int32), 'dtype': <class 'numpy.float32'>, 'quantization': (0.0, 0), 'quantization_parameters': {'scales': array([], dtype=float32), 'zero_points': array([], dtype=int32), 'quantized_dimension': 0}, 'sparsity_parameters': {}}\n"
     ]
    },
    {
     "name": "stderr",
     "output_type": "stream",
     "text": [
      "INFO: Initialized TensorFlow Lite runtime.\n",
      "INFO: Applying 1 TensorFlow Lite delegate(s) lazily.\n"
     ]
    }
   ],
   "source": [
    "'''\n",
    "Create interpreter, allocate tensors\n",
    "'''\n",
    "tflite_interpreter = tf.lite.Interpreter(model_content=tflite_quant_model)\n",
    "tflite_interpreter.allocate_tensors()\n",
    "\n",
    "'''\n",
    "Check input/output details\n",
    "'''\n",
    "input_details = tflite_interpreter.get_input_details()\n",
    "output_details = tflite_interpreter.get_output_details()\n",
    "\n",
    "print(\"== Input details ==\")\n",
    "print(\"name:\", input_details[0]['name'])\n",
    "print(\"shape:\", input_details[0]['shape'])\n",
    "print(\"type:\", input_details[0]['dtype'])\n",
    "print(\"\\n== Output details ==\")\n",
    "print(\"name:\", output_details[0]['name'])\n",
    "print(\"shape:\", output_details[0]['shape'])\n",
    "print(\"type:\", output_details[0]['dtype'])\n",
    "\n",
    "'''\n",
    "This gives a list of dictionaries. \n",
    "'''\n",
    "tensor_details = tflite_interpreter.get_tensor_details()\n",
    "\n",
    "index = -1\n",
    "\n",
    "for dict in tensor_details:\n",
    "    i = dict['index']\n",
    "    tensor_name = dict['name']\n",
    "    scales = dict['quantization'][0]\n",
    "    zero_points = dict['quantization'][1]\n",
    "    tensor = tflite_interpreter.tensor(i)()\n",
    "\n",
    "    #print(i, type, tensor_name, scales.shape, zero_points.shape, tensor.shape)\n",
    "    print(dict)\n",
    "    if 'FusedBatchNormV32' in tensor_name:\n",
    "        index = i+1\n",
    "        zero_point_1 = zero_points\n",
    "        scale = scales\n",
    "        print(tensor)\n",
    "\n",
    "    if i==index:\n",
    "        zero_point_2 = zero_points"
   ]
  },
  {
   "cell_type": "code",
   "execution_count": 12,
   "metadata": {},
   "outputs": [
    {
     "data": {
      "text/plain": [
       "(0.00397644005715847, 118)"
      ]
     },
     "execution_count": 12,
     "metadata": {},
     "output_type": "execute_result"
    }
   ],
   "source": [
    "zero_point = (zero_point_2-zero_point_1)\n",
    "scale, zero_point"
   ]
  },
  {
   "cell_type": "code",
   "execution_count": 13,
   "metadata": {},
   "outputs": [
    {
     "data": {
      "text/plain": [
       "<matplotlib.image.AxesImage at 0x288057430>"
      ]
     },
     "execution_count": 13,
     "metadata": {},
     "output_type": "execute_result"
    },
    {
     "data": {
      "image/png": "[encoded data removed]",
      "text/plain": [
       "<Figure size 640x480 with 1 Axes>"
      ]
     },
     "metadata": {},
     "output_type": "display_data"
    }
   ],
   "source": [
    "X = X_train[[0]].astype(int)\n",
    "plt.imshow(X[0])"
   ]
  },
  {
   "cell_type": "code",
   "execution_count": 14,
   "metadata": {},
   "outputs": [
    {
     "name": "stdout",
     "output_type": "stream",
     "text": [
      "1/1 [==============================] - 0s 34ms/step\n"
     ]
    },
    {
     "name": "stderr",
     "output_type": "stream",
     "text": [
      "WARNING:matplotlib.image:Clipping input data to the valid range for imshow with RGB data ([0..1] for floats or [0..255] for integers).\n"
     ]
    },
    {
     "data": {
      "text/plain": [
       "<matplotlib.image.AxesImage at 0x17dad9d60>"
      ]
     },
     "execution_count": 14,
     "metadata": {},
     "output_type": "execute_result"
    },
    {
     "data": {
      "image/png": "[encoded data removed]",
      "text/plain": [
       "<Figure size 640x480 with 1 Axes>"
      ]
     },
     "metadata": {},
     "output_type": "display_data"
    }
   ],
   "source": [
    "y = model.predict(X)\n",
    "plt.imshow(y[0])"
   ]
  },
  {
   "cell_type": "code",
   "execution_count": 15,
   "metadata": {},
   "outputs": [
    {
     "data": {
      "text/plain": [
       "(array([0.22937886, 0.24656726, 0.24305297], dtype=float32),\n",
       " array([ 0.024881  ,  0.01808149, -0.01237541], dtype=float32),\n",
       " array([125.08019, 122.74484, 113.73573], dtype=float32),\n",
       " array([3967.053 , 3844.8708, 4432.725 ], dtype=float32),\n",
       " 0.001)"
      ]
     },
     "execution_count": 15,
     "metadata": {},
     "output_type": "execute_result"
    }
   ],
   "source": [
    "gamma = model.layers[1].weights[0].numpy()\n",
    "beta = model.layers[1].weights[1].numpy()\n",
    "moving_mean = model.layers[1].weights[2].numpy()\n",
    "moving_var = model.layers[1].weights[3].numpy()\n",
    "epsilon = model.layers[1].epsilon\n",
    "gamma, beta, moving_mean, moving_var, epsilon"
   ]
  },
  {
   "cell_type": "code",
   "execution_count": 16,
   "metadata": {},
   "outputs": [
    {
     "data": {
      "text/plain": [
       "(array([0.00364183, 0.00397644, 0.00365061], dtype=float32),\n",
       " array([-118.24818 , -118.197685, -117.12569 ], dtype=float32))"
      ]
     },
     "execution_count": 16,
     "metadata": {},
     "output_type": "execute_result"
    }
   ],
   "source": [
    "a = gamma/(moving_var+epsilon)**.5\n",
    "b = beta-gamma*moving_mean/(moving_var+epsilon)**.5\n",
    "a, b/a"
   ]
  },
  {
   "cell_type": "code",
   "execution_count": 17,
   "metadata": {},
   "outputs": [],
   "source": [
    "in_json = {\n",
    "    \"in\": X.astype(int).flatten().tolist(),\n",
    "    \"zero_point\": zero_point,\n",
    "}"
   ]
  },
  {
   "cell_type": "code",
   "execution_count": 18,
   "metadata": {},
   "outputs": [],
   "source": [
    "out_json = {\n",
    "    \"scale\": scale,\n",
    "    \"out\": y.flatten().tolist()\n",
    "}"
   ]
  },
  {
   "cell_type": "code",
   "execution_count": 19,
   "metadata": {},
   "outputs": [],
   "source": [
    "import json"
   ]
  },
  {
   "cell_type": "code",
   "execution_count": 20,
   "metadata": {},
   "outputs": [],
   "source": [
    "with open(\"batchNormalization_input.json\", \"w\") as f:\n",
    "    json.dump(in_json, f)"
   ]
  },
  {
   "cell_type": "code",
   "execution_count": 21,
   "metadata": {},
   "outputs": [],
   "source": [
    "with open(\"batchNormalization_output.json\", \"w\") as f:\n",
    "    json.dump(out_json, f)"
   ]
  },
  {
   "cell_type": "code",
   "execution_count": null,
   "metadata": {},
   "outputs": [],
   "source": []
  }
 ],
 "metadata": {
  "kernelspec": {
   "display_name": "Python 3.9.13 ('tf-cpu')",
   "language": "python",
   "name": "python3"
  },
  "language_info": {
   "codemirror_mode": {
    "name": "ipython",
    "version": 3
   },
   "file_extension": ".py",
   "mimetype": "text/x-python",
   "name": "python",
   "nbconvert_exporter": "python",
   "pygments_lexer": "ipython3",
   "version": "3.9.15"
  },
  "orig_nbformat": 4,
  "vscode": {
   "interpreter": {
    "hash": "9449095698c6ddbfb01f56d5f26ea4d918be7e2252dcbff228035a3e4c87e117"
   }
  }
 },
 "nbformat": 4,
 "nbformat_minor": 2
}
