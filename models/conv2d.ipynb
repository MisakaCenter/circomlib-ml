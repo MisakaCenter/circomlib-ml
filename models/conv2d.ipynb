{
 "cells": [
  {
   "cell_type": "code",
   "execution_count": 1,
   "metadata": {},
   "outputs": [],
   "source": [
    "import tensorflow as tf\n",
    "from tensorflow.keras.layers import Input, Conv2D\n",
    "from tensorflow.keras import Model\n",
    "from tensorflow.keras.datasets import mnist\n",
    "import numpy as np\n",
    "import matplotlib.pyplot as plt\n",
    "from scipy.signal import convolve2d"
   ]
  },
  {
   "cell_type": "code",
   "execution_count": 2,
   "metadata": {},
   "outputs": [],
   "source": [
    "(X_train, y_train), (X_test, y_test) = mnist.load_data()"
   ]
  },
  {
   "cell_type": "code",
   "execution_count": 3,
   "metadata": {},
   "outputs": [],
   "source": [
    "X_train = X_train.reshape(X_train.shape[0], 28, 28, 1).astype(np.float32)"
   ]
  },
  {
   "cell_type": "code",
   "execution_count": 4,
   "metadata": {},
   "outputs": [],
   "source": [
    "inputs = Input(shape=(28,28,1))\n",
    "x = Conv2D(4, 3, bias_initializer='random_normal')(inputs)\n",
    "model = Model(inputs, x)"
   ]
  },
  {
   "cell_type": "code",
   "execution_count": 5,
   "metadata": {},
   "outputs": [
    {
     "name": "stdout",
     "output_type": "stream",
     "text": [
      "Model: \"model\"\n",
      "_________________________________________________________________\n",
      " Layer (type)                Output Shape              Param #   \n",
      "=================================================================\n",
      " input_1 (InputLayer)        [(None, 28, 28, 1)]       0         \n",
      "                                                                 \n",
      " conv2d (Conv2D)             (None, 26, 26, 4)         40        \n",
      "                                                                 \n",
      "=================================================================\n",
      "Total params: 40\n",
      "Trainable params: 40\n",
      "Non-trainable params: 0\n",
      "_________________________________________________________________\n"
     ]
    }
   ],
   "source": [
    "model.summary()"
   ]
  },
  {
   "cell_type": "code",
   "execution_count": 6,
   "metadata": {},
   "outputs": [],
   "source": [
    "def representative_data_gen():\n",
    "  for input_value in tf.data.Dataset.from_tensor_slices(X_train).batch(1).take(100):\n",
    "    # Model has only one input so each data point has one element.\n",
    "    yield [input_value]"
   ]
  },
  {
   "cell_type": "code",
   "execution_count": 7,
   "metadata": {},
   "outputs": [
    {
     "name": "stderr",
     "output_type": "stream",
     "text": [
      "WARNING:absl:Found untraced functions such as _jit_compiled_convolution_op while saving (showing 1 of 1). These functions will not be directly callable after loading.\n"
     ]
    },
    {
     "name": "stdout",
     "output_type": "stream",
     "text": [
      "INFO:tensorflow:Assets written to: /var/folders/gt/sg3v8rd13l52jx91mfbgzbfc0000gn/T/tmp8klfmx4q/assets\n"
     ]
    },
    {
     "name": "stderr",
     "output_type": "stream",
     "text": [
      "INFO:tensorflow:Assets written to: /var/folders/gt/sg3v8rd13l52jx91mfbgzbfc0000gn/T/tmp8klfmx4q/assets\n",
      "/Users/sty/miniforge3/envs/tf-cpu/lib/python3.9/site-packages/tensorflow/lite/python/convert.py:766: UserWarning: Statistics for quantized inputs were expected, but not specified; continuing anyway.\n",
      "  warnings.warn(\"Statistics for quantized inputs were expected, but not \"\n",
      "2022-12-08 22:25:49.419293: W tensorflow/compiler/mlir/lite/python/tf_tfl_flatbuffer_helpers.cc:362] Ignored output_format.\n",
      "2022-12-08 22:25:49.419305: W tensorflow/compiler/mlir/lite/python/tf_tfl_flatbuffer_helpers.cc:365] Ignored drop_control_dependency.\n",
      "2022-12-08 22:25:49.419425: I tensorflow/cc/saved_model/reader.cc:45] Reading SavedModel from: /var/folders/gt/sg3v8rd13l52jx91mfbgzbfc0000gn/T/tmp8klfmx4q\n",
      "2022-12-08 22:25:49.419740: I tensorflow/cc/saved_model/reader.cc:89] Reading meta graph with tags { serve }\n",
      "2022-12-08 22:25:49.419745: I tensorflow/cc/saved_model/reader.cc:130] Reading SavedModel debug info (if present) from: /var/folders/gt/sg3v8rd13l52jx91mfbgzbfc0000gn/T/tmp8klfmx4q\n",
      "2022-12-08 22:25:49.420475: I tensorflow/compiler/mlir/mlir_graph_optimization_pass.cc:354] MLIR V1 optimization pass is not enabled\n",
      "2022-12-08 22:25:49.420711: I tensorflow/cc/saved_model/loader.cc:229] Restoring SavedModel bundle.\n",
      "2022-12-08 22:25:49.420917: W tensorflow/core/platform/profile_utils/cpu_utils.cc:128] Failed to get CPU frequency: 0 Hz\n",
      "2022-12-08 22:25:49.428038: I tensorflow/cc/saved_model/loader.cc:213] Running initialization op on SavedModel bundle at path: /var/folders/gt/sg3v8rd13l52jx91mfbgzbfc0000gn/T/tmp8klfmx4q\n",
      "2022-12-08 22:25:49.430946: I tensorflow/cc/saved_model/loader.cc:305] SavedModel load for tags { serve }; Status: success: OK. Took 11524 microseconds.\n",
      "2022-12-08 22:25:49.436421: I tensorflow/compiler/mlir/tensorflow/utils/dump_mlir_util.cc:268] disabling MLIR crash reproducer, set env var `MLIR_CRASH_REPRODUCER_DIRECTORY` to enable.\n",
      "INFO: Initialized TensorFlow Lite runtime.\n",
      "fully_quantize: 0, inference_type: 6, input_inference_type: FLOAT32, output_inference_type: FLOAT32\n"
     ]
    }
   ],
   "source": [
    "converter = tf.lite.TFLiteConverter.from_keras_model(model)\n",
    "converter.optimizations = [tf.lite.Optimize.DEFAULT]\n",
    "converter.representative_dataset = representative_data_gen\n",
    "converter.target_spec.supported_ops = [tf.lite.OpsSet.TFLITE_BUILTINS_INT8]\n",
    "# converter.inference_input_type = tf.int8\n",
    "# converter.inference_output_type = tf.int8\n",
    "converter._experimental_disable_per_channel = True\n",
    "tflite_quant_model = converter.convert()"
   ]
  },
  {
   "cell_type": "code",
   "execution_count": 8,
   "metadata": {},
   "outputs": [
    {
     "name": "stdout",
     "output_type": "stream",
     "text": [
      "== Input details ==\n",
      "name: serving_default_input_1:0\n",
      "shape: [ 1 28 28  1]\n",
      "type: <class 'numpy.float32'>\n",
      "\n",
      "== Output details ==\n",
      "name: StatefulPartitionedCall:0\n",
      "shape: [ 1 26 26  4]\n",
      "type: <class 'numpy.float32'>\n",
      "{'name': 'serving_default_input_1:0', 'index': 0, 'shape': array([ 1, 28, 28,  1], dtype=int32), 'shape_signature': array([-1, 28, 28,  1], dtype=int32), 'dtype': <class 'numpy.float32'>, 'quantization': (0.0, 0), 'quantization_parameters': {'scales': array([], dtype=float32), 'zero_points': array([], dtype=int32), 'quantized_dimension': 0}, 'sparsity_parameters': {}}\n",
      "{'name': 'model/conv2d/BiasAdd/ReadVariableOp', 'index': 1, 'shape': array([4], dtype=int32), 'shape_signature': array([4], dtype=int32), 'dtype': <class 'numpy.int32'>, 'quantization': (0.0028500461485236883, 0), 'quantization_parameters': {'scales': array([0.00285005], dtype=float32), 'zero_points': array([0], dtype=int32), 'quantized_dimension': 0}, 'sparsity_parameters': {}}\n",
      "[ 18 -31   3  25]\n",
      "{'name': 'model/conv2d/Conv2D', 'index': 2, 'shape': array([4, 3, 3, 1], dtype=int32), 'shape_signature': array([4, 3, 3, 1], dtype=int32), 'dtype': <class 'numpy.int8'>, 'quantization': (0.0028500461485236883, 0), 'quantization_parameters': {'scales': array([0.00285005], dtype=float32), 'zero_points': array([0], dtype=int32), 'quantized_dimension': 0}, 'sparsity_parameters': {}}\n",
      "[[[[ 113]\n",
      "   [ 100]\n",
      "   [ 105]]\n",
      "\n",
      "  [[ 100]\n",
      "   [  81]\n",
      "   [ -48]]\n",
      "\n",
      "  [[ -45]\n",
      "   [ -76]\n",
      "   [ -20]]]\n",
      "\n",
      "\n",
      " [[[ -13]\n",
      "   [ -59]\n",
      "   [ -71]]\n",
      "\n",
      "  [[ -45]\n",
      "   [  81]\n",
      "   [ -60]]\n",
      "\n",
      "  [[  55]\n",
      "   [ 107]\n",
      "   [  25]]]\n",
      "\n",
      "\n",
      " [[[   3]\n",
      "   [ -70]\n",
      "   [ 122]]\n",
      "\n",
      "  [[ -40]\n",
      "   [-127]\n",
      "   [ 106]]\n",
      "\n",
      "  [[  38]\n",
      "   [ -97]\n",
      "   [ -63]]]\n",
      "\n",
      "\n",
      " [[[ -11]\n",
      "   [  14]\n",
      "   [ 119]]\n",
      "\n",
      "  [[ -98]\n",
      "   [ -58]\n",
      "   [ -39]]\n",
      "\n",
      "  [[ -19]\n",
      "   [  -5]\n",
      "   [   6]]]]\n",
      "{'name': 'tfl.quantize', 'index': 3, 'shape': array([ 1, 28, 28,  1], dtype=int32), 'shape_signature': array([-1, 28, 28,  1], dtype=int32), 'dtype': <class 'numpy.int8'>, 'quantization': (1.0, -128), 'quantization_parameters': {'scales': array([1.], dtype=float32), 'zero_points': array([-128], dtype=int32), 'quantized_dimension': 0}, 'sparsity_parameters': {}}\n",
      "{'name': 'StatefulPartitionedCall:01', 'index': 4, 'shape': array([ 1, 26, 26,  4], dtype=int32), 'shape_signature': array([-1, 26, 26,  4], dtype=int32), 'dtype': <class 'numpy.int8'>, 'quantization': (2.3627407550811768, -22), 'quantization_parameters': {'scales': array([2.3627408], dtype=float32), 'zero_points': array([-22], dtype=int32), 'quantized_dimension': 0}, 'sparsity_parameters': {}}\n",
      "{'name': 'StatefulPartitionedCall:0', 'index': 5, 'shape': array([ 1, 26, 26,  4], dtype=int32), 'shape_signature': array([-1, 26, 26,  4], dtype=int32), 'dtype': <class 'numpy.float32'>, 'quantization': (0.0, 0), 'quantization_parameters': {'scales': array([], dtype=float32), 'zero_points': array([], dtype=int32), 'quantized_dimension': 0}, 'sparsity_parameters': {}}\n",
      "{'name': '', 'index': 6, 'shape': array([ 1, 26, 26,  9], dtype=int32), 'shape_signature': array([ 1, 26, 26,  9], dtype=int32), 'dtype': <class 'numpy.int8'>, 'quantization': (0.0, 0), 'quantization_parameters': {'scales': array([], dtype=float32), 'zero_points': array([], dtype=int32), 'quantized_dimension': 0}, 'sparsity_parameters': {}}\n"
     ]
    },
    {
     "name": "stderr",
     "output_type": "stream",
     "text": [
      "INFO: Initialized TensorFlow Lite runtime.\n",
      "INFO: Applying 1 TensorFlow Lite delegate(s) lazily.\n"
     ]
    }
   ],
   "source": [
    "'''\n",
    "Create interpreter, allocate tensors\n",
    "'''\n",
    "tflite_interpreter = tf.lite.Interpreter(model_content=tflite_quant_model)\n",
    "tflite_interpreter.allocate_tensors()\n",
    "\n",
    "'''\n",
    "Check input/output details\n",
    "'''\n",
    "input_details = tflite_interpreter.get_input_details()\n",
    "output_details = tflite_interpreter.get_output_details()\n",
    "\n",
    "print(\"== Input details ==\")\n",
    "print(\"name:\", input_details[0]['name'])\n",
    "print(\"shape:\", input_details[0]['shape'])\n",
    "print(\"type:\", input_details[0]['dtype'])\n",
    "print(\"\\n== Output details ==\")\n",
    "print(\"name:\", output_details[0]['name'])\n",
    "print(\"shape:\", output_details[0]['shape'])\n",
    "print(\"type:\", output_details[0]['dtype'])\n",
    "\n",
    "'''\n",
    "This gives a list of dictionaries. \n",
    "'''\n",
    "tensor_details = tflite_interpreter.get_tensor_details()\n",
    "\n",
    "for dict in tensor_details:\n",
    "    i = dict['index']\n",
    "    tensor_name = dict['name']\n",
    "    scales = dict['quantization'][0]\n",
    "    zero_points = dict['quantization'][1]\n",
    "    tensor = tflite_interpreter.tensor(i)()\n",
    "\n",
    "    #print(i, type, tensor_name, scales.shape, zero_points.shape, tensor.shape)\n",
    "    print(dict)\n",
    "    if \"Conv2D\" in tensor_name:\n",
    "        weights = tensor\n",
    "        scale = scales\n",
    "        print(tensor)\n",
    "    if \"Bias\" in tensor_name:\n",
    "        biases = tensor\n",
    "        print(tensor)"
   ]
  },
  {
   "cell_type": "code",
   "execution_count": 9,
   "metadata": {},
   "outputs": [],
   "source": [
    "weights = np.rollaxis(weights, 0,4)"
   ]
  },
  {
   "cell_type": "code",
   "execution_count": 10,
   "metadata": {},
   "outputs": [
    {
     "data": {
      "text/plain": [
       "array([[[[ 0.32205521, -0.0370506 ,  0.00855014, -0.03135051]],\n",
       "\n",
       "        [[ 0.28500461, -0.16815272, -0.19950323,  0.03990065]],\n",
       "\n",
       "        [[ 0.29925485, -0.20235328,  0.34770563,  0.33915549]]],\n",
       "\n",
       "\n",
       "       [[[ 0.28500461, -0.12825208, -0.11400185, -0.27930452]],\n",
       "\n",
       "        [[ 0.23085374,  0.23085374, -0.36195586, -0.16530268]],\n",
       "\n",
       "        [[-0.13680222, -0.17100277,  0.30210489, -0.1111518 ]]],\n",
       "\n",
       "\n",
       "       [[[-0.12825208,  0.15675254,  0.10830175, -0.05415088]],\n",
       "\n",
       "        [[-0.21660351,  0.30495494, -0.27645448, -0.01425023]],\n",
       "\n",
       "        [[-0.05700092,  0.07125115, -0.17955291,  0.01710028]]]])"
      ]
     },
     "execution_count": 10,
     "metadata": {},
     "output_type": "execute_result"
    }
   ],
   "source": [
    "A = weights*scale\n",
    "A"
   ]
  },
  {
   "cell_type": "code",
   "execution_count": 11,
   "metadata": {},
   "outputs": [
    {
     "data": {
      "text/plain": [
       "array([[[[ 0.32304007, -0.03825197,  0.00947043, -0.03106147]],\n",
       "\n",
       "        [[ 0.28605455, -0.16937381, -0.19900963,  0.03882751]],\n",
       "\n",
       "        [[ 0.30011785, -0.20131066,  0.3478405 ,  0.33982933]]],\n",
       "\n",
       "\n",
       "       [[[ 0.28405195, -0.12947306, -0.11278489, -0.27868629]],\n",
       "\n",
       "        [[ 0.23135966,  0.23095816, -0.36195585, -0.1662883 ]],\n",
       "\n",
       "        [[-0.13780653, -0.17211406,  0.30166155, -0.11059293]]],\n",
       "\n",
       "\n",
       "       [[[-0.12738235,  0.15754533,  0.10828841, -0.05358925]],\n",
       "\n",
       "        [[-0.21629494,  0.30389327, -0.2764272 , -0.01396909]],\n",
       "\n",
       "        [[-0.05680344,  0.07147413, -0.18066274,  0.01620162]]]],\n",
       "      dtype=float32)"
      ]
     },
     "execution_count": 11,
     "metadata": {},
     "output_type": "execute_result"
    }
   ],
   "source": [
    "B = model.weights[0].numpy()\n",
    "B"
   ]
  },
  {
   "cell_type": "code",
   "execution_count": 12,
   "metadata": {},
   "outputs": [
    {
     "data": {
      "text/plain": [
       "0.0007996446248029882"
      ]
     },
     "execution_count": 12,
     "metadata": {},
     "output_type": "execute_result"
    }
   ],
   "source": [
    "((A-B)**2).mean()**.5"
   ]
  },
  {
   "cell_type": "code",
   "execution_count": 13,
   "metadata": {},
   "outputs": [],
   "source": [
    "A = biases*scale"
   ]
  },
  {
   "cell_type": "code",
   "execution_count": 14,
   "metadata": {},
   "outputs": [],
   "source": [
    "B = model.weights[1].numpy()"
   ]
  },
  {
   "cell_type": "code",
   "execution_count": 15,
   "metadata": {},
   "outputs": [
    {
     "data": {
      "text/plain": [
       "0.0009069952896508898"
      ]
     },
     "execution_count": 15,
     "metadata": {},
     "output_type": "execute_result"
    }
   ],
   "source": [
    "((A-B)**2).mean()**.5"
   ]
  },
  {
   "cell_type": "code",
   "execution_count": 16,
   "metadata": {},
   "outputs": [
    {
     "data": {
      "text/plain": [
       "<matplotlib.image.AxesImage at 0x2934f6100>"
      ]
     },
     "execution_count": 16,
     "metadata": {},
     "output_type": "execute_result"
    },
    {
     "data": {
      "image/png": "[encoded data removed]",
      "text/plain": [
       "<Figure size 640x480 with 1 Axes>"
      ]
     },
     "metadata": {},
     "output_type": "display_data"
    }
   ],
   "source": [
    "X = X_train[[0]]\n",
    "plt.imshow(X[0])"
   ]
  },
  {
   "cell_type": "code",
   "execution_count": 17,
   "metadata": {},
   "outputs": [
    {
     "name": "stdout",
     "output_type": "stream",
     "text": [
      "1/1 [==============================] - 0s 34ms/step\n"
     ]
    }
   ],
   "source": [
    "y = model.predict(X)"
   ]
  },
  {
   "cell_type": "code",
   "execution_count": 18,
   "metadata": {},
   "outputs": [
    {
     "name": "stdout",
     "output_type": "stream",
     "text": [
      "-109.355644 332.39246 36.14158\n"
     ]
    },
    {
     "data": {
      "text/plain": [
       "<matplotlib.image.AxesImage at 0x2930eed60>"
      ]
     },
     "execution_count": 18,
     "metadata": {},
     "output_type": "execute_result"
    },
    {
     "data": {
      "image/png": "[encoded data removed]",
      "text/plain": [
       "<Figure size 640x480 with 1 Axes>"
      ]
     },
     "metadata": {},
     "output_type": "display_data"
    }
   ],
   "source": [
    "A = y[0,:,:,0]\n",
    "print(A.min(), A.max(), A.mean())\n",
    "plt.imshow(A)"
   ]
  },
  {
   "cell_type": "code",
   "execution_count": 19,
   "metadata": {},
   "outputs": [
    {
     "name": "stdout",
     "output_type": "stream",
     "text": [
      "-101.61839 330.2263 36.025753\n"
     ]
    },
    {
     "data": {
      "text/plain": [
       "<matplotlib.image.AxesImage at 0x293fa3370>"
      ]
     },
     "execution_count": 19,
     "metadata": {},
     "output_type": "execute_result"
    },
    {
     "data": {
      "image/png": "[encoded data removed]",
      "text/plain": [
       "<Figure size 640x480 with 1 Axes>"
      ]
     },
     "metadata": {},
     "output_type": "display_data"
    }
   ],
   "source": [
    "B = (convolve2d(X[0,:,:,0], weights[:,:,0,0], mode=\"valid\")+biases[0])*scale\n",
    "print(B.min(), B.max(), B.mean())\n",
    "plt.imshow(B)"
   ]
  },
  {
   "cell_type": "code",
   "execution_count": 20,
   "metadata": {},
   "outputs": [
    {
     "data": {
      "text/plain": [
       "124.22025549402159"
      ]
     },
     "execution_count": 20,
     "metadata": {},
     "output_type": "execute_result"
    }
   ],
   "source": [
    "((A-B)**2).mean()**.5"
   ]
  },
  {
   "cell_type": "code",
   "execution_count": 21,
   "metadata": {},
   "outputs": [],
   "source": [
    "in_json = {\n",
    "    \"in\": X.astype(int).flatten().tolist(),\n",
    "    \"weights\": weights.flatten().tolist(),\n",
    "    \"bias\": biases.flatten().tolist(),\n",
    "}"
   ]
  },
  {
   "cell_type": "code",
   "execution_count": 22,
   "metadata": {},
   "outputs": [],
   "source": [
    "out_json = {\n",
    "    \"scale\": scale,\n",
    "    \"out\": y.flatten().tolist(),\n",
    "}"
   ]
  },
  {
   "cell_type": "code",
   "execution_count": 23,
   "metadata": {},
   "outputs": [],
   "source": [
    "import json"
   ]
  },
  {
   "cell_type": "code",
   "execution_count": 24,
   "metadata": {},
   "outputs": [],
   "source": [
    "with open(\"conv2D_input.json\", \"w\") as f:\n",
    "    json.dump(in_json, f)"
   ]
  },
  {
   "cell_type": "code",
   "execution_count": 25,
   "metadata": {},
   "outputs": [],
   "source": [
    "with open(\"conv2D_output.json\", \"w\") as f:\n",
    "    json.dump(out_json, f)"
   ]
  },
  {
   "cell_type": "code",
   "execution_count": 26,
   "metadata": {},
   "outputs": [],
   "source": [
    "inputs = Input(shape=(28,28,1))\n",
    "x = Conv2D(4, 3, 2, bias_initializer='random_normal')(inputs)\n",
    "model = Model(inputs, x)"
   ]
  },
  {
   "cell_type": "code",
   "execution_count": 27,
   "metadata": {},
   "outputs": [
    {
     "name": "stdout",
     "output_type": "stream",
     "text": [
      "Model: \"model_1\"\n",
      "_________________________________________________________________\n",
      " Layer (type)                Output Shape              Param #   \n",
      "=================================================================\n",
      " input_2 (InputLayer)        [(None, 28, 28, 1)]       0         \n",
      "                                                                 \n",
      " conv2d_1 (Conv2D)           (None, 13, 13, 4)         40        \n",
      "                                                                 \n",
      "=================================================================\n",
      "Total params: 40\n",
      "Trainable params: 40\n",
      "Non-trainable params: 0\n",
      "_________________________________________________________________\n"
     ]
    }
   ],
   "source": [
    "model.summary()"
   ]
  },
  {
   "cell_type": "code",
   "execution_count": 28,
   "metadata": {},
   "outputs": [
    {
     "name": "stderr",
     "output_type": "stream",
     "text": [
      "WARNING:absl:Found untraced functions such as _jit_compiled_convolution_op while saving (showing 1 of 1). These functions will not be directly callable after loading.\n"
     ]
    },
    {
     "name": "stdout",
     "output_type": "stream",
     "text": [
      "INFO:tensorflow:Assets written to: /var/folders/gt/sg3v8rd13l52jx91mfbgzbfc0000gn/T/tmpe6yqlypi/assets\n"
     ]
    },
    {
     "name": "stderr",
     "output_type": "stream",
     "text": [
      "INFO:tensorflow:Assets written to: /var/folders/gt/sg3v8rd13l52jx91mfbgzbfc0000gn/T/tmpe6yqlypi/assets\n",
      "/Users/sty/miniforge3/envs/tf-cpu/lib/python3.9/site-packages/tensorflow/lite/python/convert.py:766: UserWarning: Statistics for quantized inputs were expected, but not specified; continuing anyway.\n",
      "  warnings.warn(\"Statistics for quantized inputs were expected, but not \"\n",
      "2022-12-08 22:25:50.563360: W tensorflow/compiler/mlir/lite/python/tf_tfl_flatbuffer_helpers.cc:362] Ignored output_format.\n",
      "2022-12-08 22:25:50.563371: W tensorflow/compiler/mlir/lite/python/tf_tfl_flatbuffer_helpers.cc:365] Ignored drop_control_dependency.\n",
      "2022-12-08 22:25:50.563455: I tensorflow/cc/saved_model/reader.cc:45] Reading SavedModel from: /var/folders/gt/sg3v8rd13l52jx91mfbgzbfc0000gn/T/tmpe6yqlypi\n",
      "2022-12-08 22:25:50.563780: I tensorflow/cc/saved_model/reader.cc:89] Reading meta graph with tags { serve }\n",
      "2022-12-08 22:25:50.563785: I tensorflow/cc/saved_model/reader.cc:130] Reading SavedModel debug info (if present) from: /var/folders/gt/sg3v8rd13l52jx91mfbgzbfc0000gn/T/tmpe6yqlypi\n",
      "2022-12-08 22:25:50.564702: I tensorflow/cc/saved_model/loader.cc:229] Restoring SavedModel bundle.\n",
      "2022-12-08 22:25:50.572172: I tensorflow/cc/saved_model/loader.cc:213] Running initialization op on SavedModel bundle at path: /var/folders/gt/sg3v8rd13l52jx91mfbgzbfc0000gn/T/tmpe6yqlypi\n",
      "2022-12-08 22:25:50.574808: I tensorflow/cc/saved_model/loader.cc:305] SavedModel load for tags { serve }; Status: success: OK. Took 11353 microseconds.\n",
      "fully_quantize: 0, inference_type: 6, input_inference_type: FLOAT32, output_inference_type: FLOAT32\n"
     ]
    }
   ],
   "source": [
    "converter = tf.lite.TFLiteConverter.from_keras_model(model)\n",
    "converter.optimizations = [tf.lite.Optimize.DEFAULT]\n",
    "converter.representative_dataset = representative_data_gen\n",
    "converter.target_spec.supported_ops = [tf.lite.OpsSet.TFLITE_BUILTINS_INT8]\n",
    "# converter.inference_input_type = tf.int8\n",
    "# converter.inference_output_type = tf.int8\n",
    "converter._experimental_disable_per_channel = True\n",
    "tflite_quant_model = converter.convert()"
   ]
  },
  {
   "cell_type": "code",
   "execution_count": 29,
   "metadata": {},
   "outputs": [
    {
     "name": "stdout",
     "output_type": "stream",
     "text": [
      "== Input details ==\n",
      "name: serving_default_input_2:0\n",
      "shape: [ 1 28 28  1]\n",
      "type: <class 'numpy.float32'>\n",
      "\n",
      "== Output details ==\n",
      "name: StatefulPartitionedCall:0\n",
      "shape: [ 1 13 13  4]\n",
      "type: <class 'numpy.float32'>\n",
      "{'name': 'serving_default_input_2:0', 'index': 0, 'shape': array([ 1, 28, 28,  1], dtype=int32), 'shape_signature': array([-1, 28, 28,  1], dtype=int32), 'dtype': <class 'numpy.float32'>, 'quantization': (0.0, 0), 'quantization_parameters': {'scales': array([], dtype=float32), 'zero_points': array([], dtype=int32), 'quantized_dimension': 0}, 'sparsity_parameters': {}}\n",
      "{'name': 'model_1/conv2d_1/BiasAdd/ReadVariableOp', 'index': 1, 'shape': array([4], dtype=int32), 'shape_signature': array([4], dtype=int32), 'dtype': <class 'numpy.int32'>, 'quantization': (0.0028172738384455442, 0), 'quantization_parameters': {'scales': array([0.00281727], dtype=float32), 'zero_points': array([0], dtype=int32), 'quantized_dimension': 0}, 'sparsity_parameters': {}}\n",
      "[-25  14   7 -22]\n",
      "{'name': 'model_1/conv2d_1/Conv2D', 'index': 2, 'shape': array([4, 3, 3, 1], dtype=int32), 'shape_signature': array([4, 3, 3, 1], dtype=int32), 'dtype': <class 'numpy.int8'>, 'quantization': (0.0028172738384455442, 0), 'quantization_parameters': {'scales': array([0.00281727], dtype=float32), 'zero_points': array([0], dtype=int32), 'quantized_dimension': 0}, 'sparsity_parameters': {}}\n",
      "[[[[ -85]\n",
      "   [ -93]\n",
      "   [ -22]]\n",
      "\n",
      "  [[ -30]\n",
      "   [  12]\n",
      "   [ -66]]\n",
      "\n",
      "  [[ -13]\n",
      "   [  87]\n",
      "   [  92]]]\n",
      "\n",
      "\n",
      " [[[-127]\n",
      "   [-115]\n",
      "   [ -34]]\n",
      "\n",
      "  [[ 118]\n",
      "   [ 101]\n",
      "   [  62]]\n",
      "\n",
      "  [[ 121]\n",
      "   [  14]\n",
      "   [  72]]]\n",
      "\n",
      "\n",
      " [[[  42]\n",
      "   [ 121]\n",
      "   [ -60]]\n",
      "\n",
      "  [[  52]\n",
      "   [   3]\n",
      "   [ -89]]\n",
      "\n",
      "  [[ -74]\n",
      "   [ -26]\n",
      "   [-101]]]\n",
      "\n",
      "\n",
      " [[[-124]\n",
      "   [  53]\n",
      "   [  55]]\n",
      "\n",
      "  [[  -6]\n",
      "   [ -31]\n",
      "   [-117]]\n",
      "\n",
      "  [[ -47]\n",
      "   [  36]\n",
      "   [  25]]]]\n",
      "{'name': 'tfl.quantize', 'index': 3, 'shape': array([ 1, 28, 28,  1], dtype=int32), 'shape_signature': array([-1, 28, 28,  1], dtype=int32), 'dtype': <class 'numpy.int8'>, 'quantization': (1.0, -128), 'quantization_parameters': {'scales': array([1.], dtype=float32), 'zero_points': array([-128], dtype=int32), 'quantized_dimension': 0}, 'sparsity_parameters': {}}\n",
      "{'name': 'StatefulPartitionedCall:01', 'index': 4, 'shape': array([ 1, 13, 13,  4], dtype=int32), 'shape_signature': array([-1, 13, 13,  4], dtype=int32), 'dtype': <class 'numpy.int8'>, 'quantization': (2.2909066677093506, -25), 'quantization_parameters': {'scales': array([2.2909067], dtype=float32), 'zero_points': array([-25], dtype=int32), 'quantized_dimension': 0}, 'sparsity_parameters': {}}\n",
      "{'name': 'StatefulPartitionedCall:0', 'index': 5, 'shape': array([ 1, 13, 13,  4], dtype=int32), 'shape_signature': array([-1, 13, 13,  4], dtype=int32), 'dtype': <class 'numpy.float32'>, 'quantization': (0.0, 0), 'quantization_parameters': {'scales': array([], dtype=float32), 'zero_points': array([], dtype=int32), 'quantized_dimension': 0}, 'sparsity_parameters': {}}\n",
      "{'name': '', 'index': 6, 'shape': array([ 1, 13, 13,  9], dtype=int32), 'shape_signature': array([ 1, 13, 13,  9], dtype=int32), 'dtype': <class 'numpy.int8'>, 'quantization': (0.0, 0), 'quantization_parameters': {'scales': array([], dtype=float32), 'zero_points': array([], dtype=int32), 'quantized_dimension': 0}, 'sparsity_parameters': {}}\n"
     ]
    },
    {
     "name": "stderr",
     "output_type": "stream",
     "text": [
      "INFO: Applying 1 TensorFlow Lite delegate(s) lazily.\n"
     ]
    }
   ],
   "source": [
    "'''\n",
    "Create interpreter, allocate tensors\n",
    "'''\n",
    "tflite_interpreter = tf.lite.Interpreter(model_content=tflite_quant_model)\n",
    "tflite_interpreter.allocate_tensors()\n",
    "\n",
    "'''\n",
    "Check input/output details\n",
    "'''\n",
    "input_details = tflite_interpreter.get_input_details()\n",
    "output_details = tflite_interpreter.get_output_details()\n",
    "\n",
    "print(\"== Input details ==\")\n",
    "print(\"name:\", input_details[0]['name'])\n",
    "print(\"shape:\", input_details[0]['shape'])\n",
    "print(\"type:\", input_details[0]['dtype'])\n",
    "print(\"\\n== Output details ==\")\n",
    "print(\"name:\", output_details[0]['name'])\n",
    "print(\"shape:\", output_details[0]['shape'])\n",
    "print(\"type:\", output_details[0]['dtype'])\n",
    "\n",
    "'''\n",
    "This gives a list of dictionaries. \n",
    "'''\n",
    "tensor_details = tflite_interpreter.get_tensor_details()\n",
    "\n",
    "for dict in tensor_details:\n",
    "    i = dict['index']\n",
    "    tensor_name = dict['name']\n",
    "    scales = dict['quantization'][0]\n",
    "    zero_points = dict['quantization'][1]\n",
    "    tensor = tflite_interpreter.tensor(i)()\n",
    "\n",
    "    #print(i, type, tensor_name, scales.shape, zero_points.shape, tensor.shape)\n",
    "    print(dict)\n",
    "    if \"Conv2D\" in tensor_name:\n",
    "        weights = tensor\n",
    "        scale = scales\n",
    "        print(tensor)\n",
    "    if \"Bias\" in tensor_name:\n",
    "        biases = tensor\n",
    "        print(tensor)"
   ]
  },
  {
   "cell_type": "code",
   "execution_count": 30,
   "metadata": {},
   "outputs": [
    {
     "name": "stdout",
     "output_type": "stream",
     "text": [
      "== Input details ==\n",
      "name: serving_default_input_2:0\n",
      "shape: [ 1 28 28  1]\n",
      "type: <class 'numpy.float32'>\n",
      "\n",
      "== Output details ==\n",
      "name: StatefulPartitionedCall:0\n",
      "shape: [ 1 13 13  4]\n",
      "type: <class 'numpy.float32'>\n",
      "{'name': 'serving_default_input_2:0', 'index': 0, 'shape': array([ 1, 28, 28,  1], dtype=int32), 'shape_signature': array([-1, 28, 28,  1], dtype=int32), 'dtype': <class 'numpy.float32'>, 'quantization': (0.0, 0), 'quantization_parameters': {'scales': array([], dtype=float32), 'zero_points': array([], dtype=int32), 'quantized_dimension': 0}, 'sparsity_parameters': {}}\n",
      "{'name': 'model_1/conv2d_1/BiasAdd/ReadVariableOp', 'index': 1, 'shape': array([4], dtype=int32), 'shape_signature': array([4], dtype=int32), 'dtype': <class 'numpy.int32'>, 'quantization': (0.0028172738384455442, 0), 'quantization_parameters': {'scales': array([0.00281727], dtype=float32), 'zero_points': array([0], dtype=int32), 'quantized_dimension': 0}, 'sparsity_parameters': {}}\n",
      "[-25  14   7 -22]\n",
      "{'name': 'model_1/conv2d_1/Conv2D', 'index': 2, 'shape': array([4, 3, 3, 1], dtype=int32), 'shape_signature': array([4, 3, 3, 1], dtype=int32), 'dtype': <class 'numpy.int8'>, 'quantization': (0.0028172738384455442, 0), 'quantization_parameters': {'scales': array([0.00281727], dtype=float32), 'zero_points': array([0], dtype=int32), 'quantized_dimension': 0}, 'sparsity_parameters': {}}\n",
      "[[[[ -85]\n",
      "   [ -93]\n",
      "   [ -22]]\n",
      "\n",
      "  [[ -30]\n",
      "   [  12]\n",
      "   [ -66]]\n",
      "\n",
      "  [[ -13]\n",
      "   [  87]\n",
      "   [  92]]]\n",
      "\n",
      "\n",
      " [[[-127]\n",
      "   [-115]\n",
      "   [ -34]]\n",
      "\n",
      "  [[ 118]\n",
      "   [ 101]\n",
      "   [  62]]\n",
      "\n",
      "  [[ 121]\n",
      "   [  14]\n",
      "   [  72]]]\n",
      "\n",
      "\n",
      " [[[  42]\n",
      "   [ 121]\n",
      "   [ -60]]\n",
      "\n",
      "  [[  52]\n",
      "   [   3]\n",
      "   [ -89]]\n",
      "\n",
      "  [[ -74]\n",
      "   [ -26]\n",
      "   [-101]]]\n",
      "\n",
      "\n",
      " [[[-124]\n",
      "   [  53]\n",
      "   [  55]]\n",
      "\n",
      "  [[  -6]\n",
      "   [ -31]\n",
      "   [-117]]\n",
      "\n",
      "  [[ -47]\n",
      "   [  36]\n",
      "   [  25]]]]\n",
      "{'name': 'tfl.quantize', 'index': 3, 'shape': array([ 1, 28, 28,  1], dtype=int32), 'shape_signature': array([-1, 28, 28,  1], dtype=int32), 'dtype': <class 'numpy.int8'>, 'quantization': (1.0, -128), 'quantization_parameters': {'scales': array([1.], dtype=float32), 'zero_points': array([-128], dtype=int32), 'quantized_dimension': 0}, 'sparsity_parameters': {}}\n",
      "{'name': 'StatefulPartitionedCall:01', 'index': 4, 'shape': array([ 1, 13, 13,  4], dtype=int32), 'shape_signature': array([-1, 13, 13,  4], dtype=int32), 'dtype': <class 'numpy.int8'>, 'quantization': (2.2909066677093506, -25), 'quantization_parameters': {'scales': array([2.2909067], dtype=float32), 'zero_points': array([-25], dtype=int32), 'quantized_dimension': 0}, 'sparsity_parameters': {}}\n",
      "{'name': 'StatefulPartitionedCall:0', 'index': 5, 'shape': array([ 1, 13, 13,  4], dtype=int32), 'shape_signature': array([-1, 13, 13,  4], dtype=int32), 'dtype': <class 'numpy.float32'>, 'quantization': (0.0, 0), 'quantization_parameters': {'scales': array([], dtype=float32), 'zero_points': array([], dtype=int32), 'quantized_dimension': 0}, 'sparsity_parameters': {}}\n",
      "{'name': '', 'index': 6, 'shape': array([ 1, 13, 13,  9], dtype=int32), 'shape_signature': array([ 1, 13, 13,  9], dtype=int32), 'dtype': <class 'numpy.int8'>, 'quantization': (0.0, 0), 'quantization_parameters': {'scales': array([], dtype=float32), 'zero_points': array([], dtype=int32), 'quantized_dimension': 0}, 'sparsity_parameters': {}}\n"
     ]
    },
    {
     "name": "stderr",
     "output_type": "stream",
     "text": [
      "INFO: Applying 1 TensorFlow Lite delegate(s) lazily.\n"
     ]
    }
   ],
   "source": [
    "'''\n",
    "Create interpreter, allocate tensors\n",
    "'''\n",
    "tflite_interpreter = tf.lite.Interpreter(model_content=tflite_quant_model)\n",
    "tflite_interpreter.allocate_tensors()\n",
    "\n",
    "'''\n",
    "Check input/output details\n",
    "'''\n",
    "input_details = tflite_interpreter.get_input_details()\n",
    "output_details = tflite_interpreter.get_output_details()\n",
    "\n",
    "print(\"== Input details ==\")\n",
    "print(\"name:\", input_details[0]['name'])\n",
    "print(\"shape:\", input_details[0]['shape'])\n",
    "print(\"type:\", input_details[0]['dtype'])\n",
    "print(\"\\n== Output details ==\")\n",
    "print(\"name:\", output_details[0]['name'])\n",
    "print(\"shape:\", output_details[0]['shape'])\n",
    "print(\"type:\", output_details[0]['dtype'])\n",
    "\n",
    "'''\n",
    "This gives a list of dictionaries. \n",
    "'''\n",
    "tensor_details = tflite_interpreter.get_tensor_details()\n",
    "\n",
    "for dict in tensor_details:\n",
    "    i = dict['index']\n",
    "    tensor_name = dict['name']\n",
    "    scales = dict['quantization'][0]\n",
    "    zero_points = dict['quantization'][1]\n",
    "    tensor = tflite_interpreter.tensor(i)()\n",
    "\n",
    "    #print(i, type, tensor_name, scales.shape, zero_points.shape, tensor.shape)\n",
    "    print(dict)\n",
    "    if \"Conv2D\" in tensor_name:\n",
    "        weights = tensor\n",
    "        scale = scales\n",
    "        print(tensor)\n",
    "    if \"Bias\" in tensor_name:\n",
    "        biases = tensor\n",
    "        print(tensor)"
   ]
  },
  {
   "cell_type": "code",
   "execution_count": 31,
   "metadata": {},
   "outputs": [],
   "source": [
    "weights = np.rollaxis(weights, 0,4)"
   ]
  },
  {
   "cell_type": "code",
   "execution_count": 32,
   "metadata": {},
   "outputs": [
    {
     "data": {
      "text/plain": [
       "array([[[[-0.23946828, -0.35779378,  0.1183255 , -0.34934196]],\n",
       "\n",
       "        [[-0.26200647, -0.32398649,  0.34089013,  0.14931551]],\n",
       "\n",
       "        [[-0.06198002, -0.09578731, -0.16903643,  0.15495006]]],\n",
       "\n",
       "\n",
       "       [[[-0.08451822,  0.33243831,  0.14649824, -0.01690364]],\n",
       "\n",
       "        [[ 0.03380729,  0.28454466,  0.00845182, -0.08733549]],\n",
       "\n",
       "        [[-0.18594007,  0.17467098, -0.25073737, -0.32962104]]],\n",
       "\n",
       "\n",
       "       [[[-0.03662456,  0.34089013, -0.20847826, -0.13241187]],\n",
       "\n",
       "        [[ 0.24510282,  0.03944183, -0.07324912,  0.10142186]],\n",
       "\n",
       "        [[ 0.25918919,  0.20284372, -0.28454466,  0.07043185]]]])"
      ]
     },
     "execution_count": 32,
     "metadata": {},
     "output_type": "execute_result"
    }
   ],
   "source": [
    "weights*scale"
   ]
  },
  {
   "cell_type": "code",
   "execution_count": 33,
   "metadata": {},
   "outputs": [
    {
     "data": {
      "text/plain": [
       "array([[[[-0.24029627, -0.35779378,  0.11926487, -0.34880555]],\n",
       "\n",
       "        [[-0.26081884, -0.32343784,  0.33997107,  0.1484912 ]],\n",
       "\n",
       "        [[-0.0624994 , -0.09563485, -0.16974111,  0.15483648]]],\n",
       "\n",
       "\n",
       "       [[[-0.08496213,  0.3321957 ,  0.14558834, -0.01620248]],\n",
       "\n",
       "        [[ 0.03391108,  0.2846266 ,  0.00959182, -0.08620036]],\n",
       "\n",
       "        [[-0.18486303,  0.17396384, -0.25193584, -0.3290667 ]]],\n",
       "\n",
       "\n",
       "       [[[-0.03583366,  0.34142935, -0.20717299, -0.1330333 ]],\n",
       "\n",
       "        [[ 0.24595392,  0.04008681, -0.07273945,  0.10033521]],\n",
       "\n",
       "        [[ 0.25793636,  0.20322996, -0.28320706,  0.06933329]]]],\n",
       "      dtype=float32)"
      ]
     },
     "execution_count": 33,
     "metadata": {},
     "output_type": "execute_result"
    }
   ],
   "source": [
    "model.weights[0].numpy()"
   ]
  },
  {
   "cell_type": "code",
   "execution_count": 34,
   "metadata": {},
   "outputs": [
    {
     "data": {
      "text/plain": [
       "array([-0.07043185,  0.03944183,  0.01972092, -0.06198002])"
      ]
     },
     "execution_count": 34,
     "metadata": {},
     "output_type": "execute_result"
    }
   ],
   "source": [
    "biases*scale"
   ]
  },
  {
   "cell_type": "code",
   "execution_count": 35,
   "metadata": {},
   "outputs": [
    {
     "data": {
      "text/plain": [
       "array([-0.07078537,  0.03924986,  0.0202689 , -0.06291825], dtype=float32)"
      ]
     },
     "execution_count": 35,
     "metadata": {},
     "output_type": "execute_result"
    }
   ],
   "source": [
    "model.weights[1].numpy()"
   ]
  },
  {
   "cell_type": "code",
   "execution_count": 36,
   "metadata": {},
   "outputs": [
    {
     "data": {
      "text/plain": [
       "(1, 28, 28, 1)"
      ]
     },
     "execution_count": 36,
     "metadata": {},
     "output_type": "execute_result"
    }
   ],
   "source": [
    "X = X_train[[0]]\n",
    "X.shape"
   ]
  },
  {
   "cell_type": "code",
   "execution_count": 37,
   "metadata": {},
   "outputs": [
    {
     "name": "stdout",
     "output_type": "stream",
     "text": [
      "1/1 [==============================] - 0s 21ms/step\n"
     ]
    },
    {
     "data": {
      "text/plain": [
       "array([[[[-7.07853660e-02,  3.92498598e-02,  2.02689040e-02,\n",
       "          -6.29182458e-02],\n",
       "         [-7.07853660e-02,  3.92498598e-02,  2.02689040e-02,\n",
       "          -6.29182458e-02],\n",
       "         [-7.07853660e-02,  3.92498598e-02,  2.02689040e-02,\n",
       "          -6.29182458e-02],\n",
       "         [-7.07853660e-02,  3.92498598e-02,  2.02689040e-02,\n",
       "          -6.29182458e-02],\n",
       "         [-7.07853660e-02,  3.92498598e-02,  2.02689040e-02,\n",
       "          -6.29182458e-02],\n",
       "         [-7.07853660e-02,  3.92498598e-02,  2.02689040e-02,\n",
       "          -6.29182458e-02],\n",
       "         [-7.07853660e-02,  3.92498598e-02,  2.02689040e-02,\n",
       "          -6.29182458e-02],\n",
       "         [-7.07853660e-02,  3.92498598e-02,  2.02689040e-02,\n",
       "          -6.29182458e-02],\n",
       "         [-7.07853660e-02,  3.92498598e-02,  2.02689040e-02,\n",
       "          -6.29182458e-02],\n",
       "         [-7.07853660e-02,  3.92498598e-02,  2.02689040e-02,\n",
       "          -6.29182458e-02],\n",
       "         [-7.07853660e-02,  3.92498598e-02,  2.02689040e-02,\n",
       "          -6.29182458e-02],\n",
       "         [-7.07853660e-02,  3.92498598e-02,  2.02689040e-02,\n",
       "          -6.29182458e-02],\n",
       "         [-7.07853660e-02,  3.92498598e-02,  2.02689040e-02,\n",
       "          -6.29182458e-02]],\n",
       "\n",
       "        [[-7.07853660e-02,  3.92498598e-02,  2.02689040e-02,\n",
       "          -6.29182458e-02],\n",
       "         [-7.07853660e-02,  3.92498598e-02,  2.02689040e-02,\n",
       "          -6.29182458e-02],\n",
       "         [-7.07853660e-02,  3.92498598e-02,  2.02689040e-02,\n",
       "          -6.29182458e-02],\n",
       "         [-7.07853660e-02,  3.92498598e-02,  2.02689040e-02,\n",
       "          -6.29182458e-02],\n",
       "         [-7.07853660e-02,  3.92498598e-02,  2.02689040e-02,\n",
       "          -6.29182458e-02],\n",
       "         [-7.07853660e-02,  3.92498598e-02,  2.02689040e-02,\n",
       "          -6.29182458e-02],\n",
       "         [-7.07853660e-02,  3.92498598e-02,  2.02689040e-02,\n",
       "          -6.29182458e-02],\n",
       "         [-7.07853660e-02,  3.92498598e-02,  2.02689040e-02,\n",
       "          -6.29182458e-02],\n",
       "         [-7.07853660e-02,  3.92498598e-02,  2.02689040e-02,\n",
       "          -6.29182458e-02],\n",
       "         [-7.07853660e-02,  3.92498598e-02,  2.02689040e-02,\n",
       "          -6.29182458e-02],\n",
       "         [-7.07853660e-02,  3.92498598e-02,  2.02689040e-02,\n",
       "          -6.29182458e-02],\n",
       "         [-7.07853660e-02,  3.92498598e-02,  2.02689040e-02,\n",
       "          -6.29182458e-02],\n",
       "         [-7.07853660e-02,  3.92498598e-02,  2.02689040e-02,\n",
       "          -6.29182458e-02]],\n",
       "\n",
       "        [[-7.07853660e-02,  3.92498598e-02,  2.02689040e-02,\n",
       "          -6.29182458e-02],\n",
       "         [-7.07853660e-02,  3.92498598e-02,  2.02689040e-02,\n",
       "          -6.29182458e-02],\n",
       "         [-7.07853660e-02,  3.92498598e-02,  2.02689040e-02,\n",
       "          -6.29182458e-02],\n",
       "         [ 7.66730499e+00,  6.13614893e+00, -8.47594357e+00,\n",
       "           2.01708031e+00],\n",
       "         [ 3.19545631e+01,  3.08288708e+01, -3.54350052e+01,\n",
       "           6.07547903e+00],\n",
       "         [ 7.77323456e+01,  7.33779678e+01, -7.95568695e+01,\n",
       "           1.36830311e+01],\n",
       "         [ 1.18349709e+02,  1.28892593e+02, -1.29179047e+02,\n",
       "           1.27241335e+01],\n",
       "         [ 9.41358795e+01,  1.81002258e+02, -1.71399643e+02,\n",
       "          -3.40998726e+01],\n",
       "         [ 7.26809692e+01,  2.53299133e+02, -1.58959320e+02,\n",
       "          -6.40869827e+01],\n",
       "         [ 5.47546654e+01,  2.29585480e+02, -1.46850235e+02,\n",
       "          -5.48981552e+01],\n",
       "         [ 4.95641823e+01,  3.06445068e+02, -1.60837402e+02,\n",
       "          -1.01869408e+02],\n",
       "         [-7.99623632e+00,  1.87383438e+02, -7.85530901e+00,\n",
       "          -3.45324173e+01],\n",
       "         [-7.07853660e-02,  3.92498598e-02,  2.02689040e-02,\n",
       "          -6.29182458e-02]],\n",
       "\n",
       "        [[-7.07853660e-02,  3.92498598e-02,  2.02689040e-02,\n",
       "          -6.29182458e-02],\n",
       "         [-7.07853660e-02,  3.92498598e-02,  2.02689040e-02,\n",
       "          -6.29182458e-02],\n",
       "         [-7.07853660e-02,  3.92498598e-02,  2.02689040e-02,\n",
       "          -6.29182458e-02],\n",
       "         [ 1.66337032e+01,  9.77492294e+01, -1.27894348e+02,\n",
       "          -6.09694901e+01],\n",
       "         [ 3.86807442e+01,  3.00090118e+02, -1.62206863e+02,\n",
       "          -8.57536926e+01],\n",
       "         [-1.47175655e+01,  2.48348938e+02, -1.32217697e+02,\n",
       "          -8.35538864e+01],\n",
       "         [-7.81751099e+01,  1.70020935e+02, -8.80085602e+01,\n",
       "          -8.63243790e+01],\n",
       "         [-1.00972687e+02,  1.28657532e+02, -7.54277039e+01,\n",
       "          -1.11684868e+02],\n",
       "         [-1.20667297e+02,  7.18292160e+01,  2.51246433e+01,\n",
       "          -8.09214020e+01],\n",
       "         [-1.35090179e+02, -9.17926636e+01,  3.60528984e+01,\n",
       "          -4.93887787e+01],\n",
       "         [-1.48448807e+02, -1.37439606e+02,  8.20176468e+01,\n",
       "          -4.11721649e+01],\n",
       "         [-6.69344864e+01, -7.74749222e+01,  5.07130089e+01,\n",
       "          -5.92084618e+01],\n",
       "         [-7.07853660e-02,  3.92498598e-02,  2.02689040e-02,\n",
       "          -6.29182458e-02]],\n",
       "\n",
       "        [[-7.07853660e-02,  3.92498598e-02,  2.02689040e-02,\n",
       "          -6.29182458e-02],\n",
       "         [-7.07853660e-02,  3.92498598e-02,  2.02689040e-02,\n",
       "          -6.29182458e-02],\n",
       "         [-7.07853660e-02,  3.92498598e-02,  2.02689040e-02,\n",
       "          -6.29182458e-02],\n",
       "         [-3.32419357e+01, -1.28095551e+01, -5.11884232e+01,\n",
       "           1.01937742e+01],\n",
       "         [-1.52081085e+02, -9.39869919e+01,  5.40921478e+01,\n",
       "          -4.81889915e+01],\n",
       "         [-8.68480911e+01,  1.29923382e+01, -5.55330658e+01,\n",
       "          -8.55051346e+01],\n",
       "         [-1.42735001e+02,  4.30489540e+01,  5.96657829e+01,\n",
       "          -7.01021194e+01],\n",
       "         [-1.19439522e+02, -1.42156830e+02,  3.43516197e+01,\n",
       "          -1.81845036e+01],\n",
       "         [-1.20712372e+02, -1.08167412e+02,  1.19149162e+02,\n",
       "          -6.44030685e+01],\n",
       "         [-7.07853660e-02,  3.92498598e-02,  2.02689040e-02,\n",
       "          -6.29182458e-02],\n",
       "         [-7.07853660e-02,  3.92498598e-02,  2.02689040e-02,\n",
       "          -6.29182458e-02],\n",
       "         [-7.07853660e-02,  3.92498598e-02,  2.02689040e-02,\n",
       "          -6.29182458e-02],\n",
       "         [-7.07853660e-02,  3.92498598e-02,  2.02689040e-02,\n",
       "          -6.29182458e-02]],\n",
       "\n",
       "        [[-7.07853660e-02,  3.92498598e-02,  2.02689040e-02,\n",
       "          -6.29182458e-02],\n",
       "         [-7.07853660e-02,  3.92498598e-02,  2.02689040e-02,\n",
       "          -6.29182458e-02],\n",
       "         [-7.07853660e-02,  3.92498598e-02,  2.02689040e-02,\n",
       "          -6.29182458e-02],\n",
       "         [-7.07853660e-02,  3.92498598e-02,  2.02689040e-02,\n",
       "          -6.29182458e-02],\n",
       "         [-3.78474832e+00, -4.58451462e+00,  4.61012268e+00,\n",
       "           2.17079520e+00],\n",
       "         [-4.66328392e+01,  4.83070068e+01, -1.07465401e+02,\n",
       "          -1.93291607e+01],\n",
       "         [-2.62879868e+01,  1.08120148e+02,  2.13536625e+01,\n",
       "          -9.11201248e+01],\n",
       "         [-2.74906564e+00,  2.46036949e+01, -1.41906643e+01,\n",
       "          -9.40765476e+00],\n",
       "         [-7.07853660e-02,  3.92498598e-02,  2.02689040e-02,\n",
       "          -6.29182458e-02],\n",
       "         [-7.07853660e-02,  3.92498598e-02,  2.02689040e-02,\n",
       "          -6.29182458e-02],\n",
       "         [-7.07853660e-02,  3.92498598e-02,  2.02689040e-02,\n",
       "          -6.29182458e-02],\n",
       "         [-7.07853660e-02,  3.92498598e-02,  2.02689040e-02,\n",
       "          -6.29182458e-02],\n",
       "         [-7.07853660e-02,  3.92498598e-02,  2.02689040e-02,\n",
       "          -6.29182458e-02]],\n",
       "\n",
       "        [[-7.07853660e-02,  3.92498598e-02,  2.02689040e-02,\n",
       "          -6.29182458e-02],\n",
       "         [-7.07853660e-02,  3.92498598e-02,  2.02689040e-02,\n",
       "          -6.29182458e-02],\n",
       "         [-7.07853660e-02,  3.92498598e-02,  2.02689040e-02,\n",
       "          -6.29182458e-02],\n",
       "         [-7.07853660e-02,  3.92498598e-02,  2.02689040e-02,\n",
       "          -6.29182458e-02],\n",
       "         [-7.07853660e-02,  3.92498598e-02,  2.02689040e-02,\n",
       "          -6.29182458e-02],\n",
       "         [-2.12848854e+01, -1.56004543e+01, -3.73086166e+01,\n",
       "           1.94720821e+01],\n",
       "         [-7.06575012e+01,  1.49201612e+01, -2.63285370e+01,\n",
       "          -8.85433807e+01],\n",
       "         [ 6.83367233e+01,  2.57568237e+02, -1.24324173e+02,\n",
       "          -6.64579849e+01],\n",
       "         [ 1.74382248e+01,  1.32433716e+02, -5.23975372e+01,\n",
       "          -2.18831902e+01],\n",
       "         [-9.66626763e-01,  8.57498360e+00, -5.15905571e+00,\n",
       "          -3.38875079e+00],\n",
       "         [-7.07853660e-02,  3.92498598e-02,  2.02689040e-02,\n",
       "          -6.29182458e-02],\n",
       "         [-7.07853660e-02,  3.92498598e-02,  2.02689040e-02,\n",
       "          -6.29182458e-02],\n",
       "         [-7.07853660e-02,  3.92498598e-02,  2.02689040e-02,\n",
       "          -6.29182458e-02]],\n",
       "\n",
       "        [[-7.07853660e-02,  3.92498598e-02,  2.02689040e-02,\n",
       "          -6.29182458e-02],\n",
       "         [-7.07853660e-02,  3.92498598e-02,  2.02689040e-02,\n",
       "          -6.29182458e-02],\n",
       "         [-7.07853660e-02,  3.92498598e-02,  2.02689040e-02,\n",
       "          -6.29182458e-02],\n",
       "         [-7.07853660e-02,  3.92498598e-02,  2.02689040e-02,\n",
       "          -6.29182458e-02],\n",
       "         [-7.07853660e-02,  3.92498598e-02,  2.02689040e-02,\n",
       "          -6.29182458e-02],\n",
       "         [-7.07853660e-02,  3.92498598e-02,  2.02689040e-02,\n",
       "          -6.29182458e-02],\n",
       "         [-4.45158043e+01, -4.12832069e+01, -2.45170517e+01,\n",
       "           3.43176231e+01],\n",
       "         [-1.55904236e+02, -6.04126587e+01, -1.11942854e+01,\n",
       "          -9.89972382e+01],\n",
       "         [-1.02052822e+01,  1.44060043e+02, -4.13713036e+01,\n",
       "          -1.11583580e+02],\n",
       "         [ 1.90205536e+01,  1.42486542e+02, -4.09179230e+01,\n",
       "          -2.84355812e+01],\n",
       "         [-7.07853660e-02,  3.92498598e-02,  2.02689040e-02,\n",
       "          -6.29182458e-02],\n",
       "         [-7.07853660e-02,  3.92498598e-02,  2.02689040e-02,\n",
       "          -6.29182458e-02],\n",
       "         [-7.07853660e-02,  3.92498598e-02,  2.02689040e-02,\n",
       "          -6.29182458e-02]],\n",
       "\n",
       "        [[-7.07853660e-02,  3.92498598e-02,  2.02689040e-02,\n",
       "          -6.29182458e-02],\n",
       "         [-7.07853660e-02,  3.92498598e-02,  2.02689040e-02,\n",
       "          -6.29182458e-02],\n",
       "         [-7.07853660e-02,  3.92498598e-02,  2.02689040e-02,\n",
       "          -6.29182458e-02],\n",
       "         [-7.07853660e-02,  3.92498598e-02,  2.02689040e-02,\n",
       "          -6.29182458e-02],\n",
       "         [-7.07853660e-02,  3.92498598e-02,  2.02689040e-02,\n",
       "          -6.29182458e-02],\n",
       "         [-7.07853660e-02,  3.92498598e-02,  2.02689040e-02,\n",
       "          -6.29182458e-02],\n",
       "         [ 1.17942867e+01,  9.38782787e+00, -1.30072565e+01,\n",
       "           3.12641287e+00],\n",
       "         [ 6.74716797e+01,  4.40783195e+01, -8.11390915e+01,\n",
       "           3.63247681e+01],\n",
       "         [-2.13568478e+01,  9.99880753e+01, -1.35478424e+02,\n",
       "          -4.20451508e+01],\n",
       "         [-9.21592407e+01,  1.10171837e+02,  4.88289375e+01,\n",
       "          -1.19915634e+02],\n",
       "         [-5.58002901e+00,  2.19826336e+01,  8.92357635e+00,\n",
       "          -1.36594343e+00],\n",
       "         [-7.07853660e-02,  3.92498598e-02,  2.02689040e-02,\n",
       "          -6.29182458e-02],\n",
       "         [-7.07853660e-02,  3.92498598e-02,  2.02689040e-02,\n",
       "          -6.29182458e-02]],\n",
       "\n",
       "        [[-7.07853660e-02,  3.92498598e-02,  2.02689040e-02,\n",
       "          -6.29182458e-02],\n",
       "         [-7.07853660e-02,  3.92498598e-02,  2.02689040e-02,\n",
       "          -6.29182458e-02],\n",
       "         [-7.07853660e-02,  3.92498598e-02,  2.02689040e-02,\n",
       "          -6.29182458e-02],\n",
       "         [-7.07853660e-02,  3.92498598e-02,  2.02689040e-02,\n",
       "          -6.29182458e-02],\n",
       "         [ 6.11968708e+00,  4.91676903e+00, -6.77670050e+00,\n",
       "           1.60108066e+00],\n",
       "         [ 7.69022293e+01,  6.45018616e+01, -8.56584320e+01,\n",
       "           1.06715508e+01],\n",
       "         [ 7.59909286e+01,  2.27573151e+02, -1.94223297e+02,\n",
       "          -6.81604919e+01],\n",
       "         [ 4.30289698e+00,  2.64069611e+02, -1.51802475e+02,\n",
       "          -6.79732742e+01],\n",
       "         [-1.24486343e+02,  1.38375610e+02, -4.79350052e+01,\n",
       "          -1.03409073e+02],\n",
       "         [-1.32843979e+02,  3.85697889e+00,  1.22212112e+02,\n",
       "          -8.73790512e+01],\n",
       "         [-5.51377892e-01, -6.76337719e-01,  2.58798659e-01,\n",
       "          -7.60529339e-01],\n",
       "         [-7.07853660e-02,  3.92498598e-02,  2.02689040e-02,\n",
       "          -6.29182458e-02],\n",
       "         [-7.07853660e-02,  3.92498598e-02,  2.02689040e-02,\n",
       "          -6.29182458e-02]],\n",
       "\n",
       "        [[-7.07853660e-02,  3.92498598e-02,  2.02689040e-02,\n",
       "          -6.29182458e-02],\n",
       "         [-7.07853660e-02,  3.92498598e-02,  2.02689040e-02,\n",
       "          -6.29182458e-02],\n",
       "         [ 4.57206917e+00,  3.69738913e+00, -5.07745790e+00,\n",
       "           1.18508101e+00],\n",
       "         [ 9.35785446e+01,  6.15483513e+01, -8.39641571e+01,\n",
       "           2.23152599e+01],\n",
       "         [ 7.89740753e+01,  1.97556335e+02, -1.89159607e+02,\n",
       "          -5.87080917e+01],\n",
       "         [ 1.27469387e+01,  2.68166809e+02, -1.68645416e+02,\n",
       "          -5.65323792e+01],\n",
       "         [-1.35132034e+02,  1.25467285e+02, -4.42887306e+01,\n",
       "          -1.18114235e+02],\n",
       "         [-1.73073303e+02, -1.43401890e+01,  7.43601990e+01,\n",
       "          -6.91297684e+01],\n",
       "         [-1.24979385e+02, -1.35476013e+02,  9.71005020e+01,\n",
       "          -4.78715439e+01],\n",
       "         [-1.88138943e+01, -2.78686657e+01,  9.32292843e+00,\n",
       "          -2.72697506e+01],\n",
       "         [-7.07853660e-02,  3.92498598e-02,  2.02689040e-02,\n",
       "          -6.29182458e-02],\n",
       "         [-7.07853660e-02,  3.92498598e-02,  2.02689040e-02,\n",
       "          -6.29182458e-02],\n",
       "         [-7.07853660e-02,  3.92498598e-02,  2.02689040e-02,\n",
       "          -6.29182458e-02]],\n",
       "\n",
       "        [[-7.07853660e-02,  3.92498598e-02,  2.02689040e-02,\n",
       "          -6.29182458e-02],\n",
       "         [ 2.48410912e+01,  3.72465363e+01, -5.23523636e+01,\n",
       "          -8.73226070e+00],\n",
       "         [ 8.07958298e+01,  2.12853714e+02, -1.68545410e+02,\n",
       "          -6.25289383e+01],\n",
       "         [-1.22328587e+01,  2.48055008e+02, -1.36139038e+02,\n",
       "          -4.93385201e+01],\n",
       "         [-1.34526810e+02,  1.20347023e+02, -4.63955650e+01,\n",
       "          -1.14377029e+02],\n",
       "         [-1.81267944e+02,  2.58336887e+01,  5.04185715e+01,\n",
       "          -9.64218369e+01],\n",
       "         [-1.27652306e+02, -1.13890823e+02,  1.02378113e+02,\n",
       "          -5.00711555e+01],\n",
       "         [-2.16418571e+01, -3.14951935e+01,  1.26211977e+01,\n",
       "          -2.66309414e+01],\n",
       "         [-7.07853660e-02,  3.92498598e-02,  2.02689040e-02,\n",
       "          -6.29182458e-02],\n",
       "         [-7.07853660e-02,  3.92498598e-02,  2.02689040e-02,\n",
       "          -6.29182458e-02],\n",
       "         [-7.07853660e-02,  3.92498598e-02,  2.02689040e-02,\n",
       "          -6.29182458e-02],\n",
       "         [-7.07853660e-02,  3.92498598e-02,  2.02689040e-02,\n",
       "          -6.29182458e-02],\n",
       "         [-7.07853660e-02,  3.92498598e-02,  2.02689040e-02,\n",
       "          -6.29182458e-02]],\n",
       "\n",
       "        [[-7.07853660e-02,  3.92498598e-02,  2.02689040e-02,\n",
       "          -6.29182458e-02],\n",
       "         [-8.57070446e+00, -1.29670897e+01, -2.30645218e+01,\n",
       "           2.09948425e+01],\n",
       "         [-1.14550598e+02, -1.54646088e+02,  5.93084679e+01,\n",
       "           2.92414341e+01],\n",
       "         [-1.40102783e+02, -1.92586945e+02,  8.02218475e+01,\n",
       "          -1.79171124e+01],\n",
       "         [-9.44740601e+01, -1.32100952e+02,  4.87946892e+01,\n",
       "          -3.35249710e+01],\n",
       "         [-3.59629974e+01, -5.23645363e+01,  2.12027683e+01,\n",
       "          -4.37293930e+01],\n",
       "         [-7.07853660e-02,  3.92498598e-02,  2.02689040e-02,\n",
       "          -6.29182458e-02],\n",
       "         [-7.07853660e-02,  3.92498598e-02,  2.02689040e-02,\n",
       "          -6.29182458e-02],\n",
       "         [-7.07853660e-02,  3.92498598e-02,  2.02689040e-02,\n",
       "          -6.29182458e-02],\n",
       "         [-7.07853660e-02,  3.92498598e-02,  2.02689040e-02,\n",
       "          -6.29182458e-02],\n",
       "         [-7.07853660e-02,  3.92498598e-02,  2.02689040e-02,\n",
       "          -6.29182458e-02],\n",
       "         [-7.07853660e-02,  3.92498598e-02,  2.02689040e-02,\n",
       "          -6.29182458e-02],\n",
       "         [-7.07853660e-02,  3.92498598e-02,  2.02689040e-02,\n",
       "          -6.29182458e-02]]]], dtype=float32)"
      ]
     },
     "execution_count": 37,
     "metadata": {},
     "output_type": "execute_result"
    }
   ],
   "source": [
    "y = model.predict(X)\n",
    "y"
   ]
  },
  {
   "cell_type": "code",
   "execution_count": 38,
   "metadata": {},
   "outputs": [],
   "source": [
    "in_json = {\n",
    "    \"in\": X.astype(int).flatten().tolist(),\n",
    "    \"weights\": weights.flatten().tolist(),\n",
    "    \"bias\": biases.flatten().tolist(),\n",
    "}"
   ]
  },
  {
   "cell_type": "code",
   "execution_count": 39,
   "metadata": {},
   "outputs": [],
   "source": [
    "out_json = {\n",
    "    \"scale\": scale,\n",
    "    \"out\": y.flatten().tolist()\n",
    "}"
   ]
  },
  {
   "cell_type": "code",
   "execution_count": 40,
   "metadata": {},
   "outputs": [],
   "source": [
    "with open(\"conv2D_stride_input.json\", \"w\") as f:\n",
    "    json.dump(in_json, f)"
   ]
  },
  {
   "cell_type": "code",
   "execution_count": 41,
   "metadata": {},
   "outputs": [],
   "source": [
    "with open(\"conv2D_stride_output.json\", \"w\") as f:\n",
    "    json.dump(out_json, f)"
   ]
  },
  {
   "cell_type": "code",
   "execution_count": null,
   "metadata": {},
   "outputs": [],
   "source": []
  }
 ],
 "metadata": {
  "kernelspec": {
   "display_name": "Python 3.9.13 ('tf-cpu')",
   "language": "python",
   "name": "python3"
  },
  "language_info": {
   "codemirror_mode": {
    "name": "ipython",
    "version": 3
   },
   "file_extension": ".py",
   "mimetype": "text/x-python",
   "name": "python",
   "nbconvert_exporter": "python",
   "pygments_lexer": "ipython3",
   "version": "3.9.15"
  },
  "orig_nbformat": 4,
  "vscode": {
   "interpreter": {
    "hash": "9449095698c6ddbfb01f56d5f26ea4d918be7e2252dcbff228035a3e4c87e117"
   }
  }
 },
 "nbformat": 4,
 "nbformat_minor": 2
}
