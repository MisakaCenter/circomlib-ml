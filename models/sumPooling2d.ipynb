{
 "cells": [
  {
   "cell_type": "code",
   "execution_count": 1,
   "metadata": {},
   "outputs": [],
   "source": [
    "from tensorflow.keras.layers import Input, AveragePooling2D, Lambda\n",
    "from tensorflow.keras import Model\n",
    "import numpy as np"
   ]
  },
  {
   "cell_type": "code",
   "execution_count": 2,
   "metadata": {},
   "outputs": [],
   "source": [
    "scale = 4"
   ]
  },
  {
   "cell_type": "code",
   "execution_count": 3,
   "metadata": {},
   "outputs": [],
   "source": [
    "inputs = Input(shape=(5,5,3))\n",
    "x = AveragePooling2D(pool_size=2)(inputs)\n",
    "x = Lambda(lambda x: x*scale)(x)\n",
    "model = Model(inputs, x)"
   ]
  },
  {
   "cell_type": "code",
   "execution_count": 4,
   "metadata": {},
   "outputs": [
    {
     "name": "stdout",
     "output_type": "stream",
     "text": [
      "Model: \"model\"\n",
      "_________________________________________________________________\n",
      "Layer (type)                 Output Shape              Param #   \n",
      "=================================================================\n",
      "input_1 (InputLayer)         [(None, 5, 5, 3)]         0         \n",
      "_________________________________________________________________\n",
      "average_pooling2d (AveragePo (None, 2, 2, 3)           0         \n",
      "_________________________________________________________________\n",
      "lambda (Lambda)              (None, 2, 2, 3)           0         \n",
      "=================================================================\n",
      "Total params: 0\n",
      "Trainable params: 0\n",
      "Non-trainable params: 0\n",
      "_________________________________________________________________\n"
     ]
    }
   ],
   "source": [
    "model.summary()"
   ]
  },
  {
   "cell_type": "code",
   "execution_count": 5,
   "metadata": {},
   "outputs": [
    {
     "data": {
      "text/plain": [
       "array([[[[  18,   47,    4],\n",
       "         [ -47,  109,  -28],\n",
       "         [  -9,  -68,   61],\n",
       "         [ -79,    2,   35],\n",
       "         [   1,   20,  111]],\n",
       "\n",
       "        [[ -16,   -2,   10],\n",
       "         [-118,  114,   47],\n",
       "         [-111,   32,   81],\n",
       "         [  23,  -77,   94],\n",
       "         [ -53, -102,  -58]],\n",
       "\n",
       "        [[  28,  -26,  -34],\n",
       "         [ -62,  -23,  -16],\n",
       "         [-127,   91,  -37],\n",
       "         [  33,   31,   25],\n",
       "         [ -42,  -13,    2]],\n",
       "\n",
       "        [[ -56,    7,  -21],\n",
       "         [  69,   21,   42],\n",
       "         [  93,  -77,  -59],\n",
       "         [  37,  -41,   46],\n",
       "         [  -4,   -9,  -93]],\n",
       "\n",
       "        [[  67,   73,  116],\n",
       "         [  -3,  106,  -74],\n",
       "         [ -17,  -74,  -28],\n",
       "         [ -69,   98,   45],\n",
       "         [-109,  -18,  -27]]]])"
      ]
     },
     "execution_count": 5,
     "metadata": {},
     "output_type": "execute_result"
    }
   ],
   "source": [
    "X = np.random.randint(-127, 127, (1,5,5,3))\n",
    "X"
   ]
  },
  {
   "cell_type": "code",
   "execution_count": 6,
   "metadata": {},
   "outputs": [
    {
     "data": {
      "text/plain": [
       "array([[[[-163.,  268.,   33.],\n",
       "         [-176., -111.,  271.]],\n",
       "\n",
       "        [[ -21.,  -21.,  -29.],\n",
       "         [  36.,    4.,  -25.]]]], dtype=float32)"
      ]
     },
     "execution_count": 6,
     "metadata": {},
     "output_type": "execute_result"
    }
   ],
   "source": [
    "y = model.predict(X)\n",
    "y"
   ]
  },
  {
   "cell_type": "code",
   "execution_count": 7,
   "metadata": {},
   "outputs": [],
   "source": [
    "in_json = {\n",
    "    \"in\": X.astype(int).flatten().tolist()\n",
    "}"
   ]
  },
  {
   "cell_type": "code",
   "execution_count": 8,
   "metadata": {},
   "outputs": [],
   "source": [
    "out_json = {\n",
    "    \"scale\": scale,\n",
    "    \"out\": y.astype(int).flatten().tolist()\n",
    "}"
   ]
  },
  {
   "cell_type": "code",
   "execution_count": 9,
   "metadata": {},
   "outputs": [],
   "source": [
    "import json"
   ]
  },
  {
   "cell_type": "code",
   "execution_count": 10,
   "metadata": {},
   "outputs": [],
   "source": [
    "with open(\"sumPooling2D_input.json\", \"w\") as f:\n",
    "    json.dump(in_json, f)"
   ]
  },
  {
   "cell_type": "code",
   "execution_count": 11,
   "metadata": {},
   "outputs": [],
   "source": [
    "with open(\"sumPooling2D_output.json\", \"w\") as f:\n",
    "    json.dump(out_json, f)"
   ]
  },
  {
   "cell_type": "code",
   "execution_count": 12,
   "metadata": {},
   "outputs": [],
   "source": [
    "inputs = Input(shape=(10,10,3))\n",
    "x = AveragePooling2D(pool_size=2, strides=3)(inputs)\n",
    "x = Lambda(lambda x: x*scale)(x)\n",
    "model = Model(inputs, x)"
   ]
  },
  {
   "cell_type": "code",
   "execution_count": 13,
   "metadata": {},
   "outputs": [
    {
     "name": "stdout",
     "output_type": "stream",
     "text": [
      "Model: \"model_1\"\n",
      "_________________________________________________________________\n",
      "Layer (type)                 Output Shape              Param #   \n",
      "=================================================================\n",
      "input_2 (InputLayer)         [(None, 10, 10, 3)]       0         \n",
      "_________________________________________________________________\n",
      "average_pooling2d_1 (Average (None, 3, 3, 3)           0         \n",
      "_________________________________________________________________\n",
      "lambda_1 (Lambda)            (None, 3, 3, 3)           0         \n",
      "=================================================================\n",
      "Total params: 0\n",
      "Trainable params: 0\n",
      "Non-trainable params: 0\n",
      "_________________________________________________________________\n"
     ]
    }
   ],
   "source": [
    "model.summary()"
   ]
  },
  {
   "cell_type": "code",
   "execution_count": 14,
   "metadata": {},
   "outputs": [
    {
     "data": {
      "text/plain": [
       "array([[[[   3,  100,   34],\n",
       "         [  89,  -53,  -97],\n",
       "         [  -5,   77,  112],\n",
       "         [  24,   72,  -68],\n",
       "         [   8, -117,   70],\n",
       "         [ 112,  106, -124],\n",
       "         [ 123,  -14,  -13],\n",
       "         [ -99,  -53,   21],\n",
       "         [ -69,  -27,   23],\n",
       "         [  38,   93,  -65]],\n",
       "\n",
       "        [[ -55,  -75,  -25],\n",
       "         [  87,   34, -126],\n",
       "         [ -79,  -62,  122],\n",
       "         [ -35,   79,  -70],\n",
       "         [ -19,  -29, -127],\n",
       "         [  52,   12,  -62],\n",
       "         [-111,   84,  -85],\n",
       "         [  61,  120,   11],\n",
       "         [  65,  -11,  -95],\n",
       "         [ -30,   17,   18]],\n",
       "\n",
       "        [[  33,   29,  -34],\n",
       "         [ 114,   71,   49],\n",
       "         [ -58,   90, -112],\n",
       "         [  66,   51,  -99],\n",
       "         [ -93,  122,  -80],\n",
       "         [ -93,   50,   11],\n",
       "         [-115,  -94,    9],\n",
       "         [  22,   94, -104],\n",
       "         [   1,  -94,   12],\n",
       "         [ 108,  -12, -124]],\n",
       "\n",
       "        [[-109,  -64,  -47],\n",
       "         [ 124,  -39,  -46],\n",
       "         [ -84,   55,   44],\n",
       "         [  90,  107,   92],\n",
       "         [ -74,   -2,  -93],\n",
       "         [ -13,  -11,   -9],\n",
       "         [ -67,   87,   13],\n",
       "         [-106,   22,   17],\n",
       "         [  58,  120, -109],\n",
       "         [ -93,   53,  -38]],\n",
       "\n",
       "        [[  44, -116,   11],\n",
       "         [  61,  -53,   86],\n",
       "         [-126,   57,   77],\n",
       "         [  46,  -59,  -60],\n",
       "         [ -52,    9,   46],\n",
       "         [ 108,   19,  -12],\n",
       "         [ -82,   43,  -99],\n",
       "         [-108, -107,  -84],\n",
       "         [ -53, -114,   95],\n",
       "         [ -33,  -80,   14]],\n",
       "\n",
       "        [[  39,  -89,  -31],\n",
       "         [ -70,  -50,   25],\n",
       "         [  33,   10,    8],\n",
       "         [-108,  -58,   34],\n",
       "         [ -60, -127,  -61],\n",
       "         [   6,   77,   48],\n",
       "         [  51,  105,   -9],\n",
       "         [  28,   96,    7],\n",
       "         [ -12,  -40,   48],\n",
       "         [  55,   57,   -8]],\n",
       "\n",
       "        [[  59,  -56, -114],\n",
       "         [-124,   69,   71],\n",
       "         [  65,   28,   28],\n",
       "         [  93,   91,   28],\n",
       "         [-100,  -83,  -96],\n",
       "         [  -6,   79,  -33],\n",
       "         [  18,   60,  -25],\n",
       "         [-110,   39,   53],\n",
       "         [  95,   83,  110],\n",
       "         [-122,  -40,   51]],\n",
       "\n",
       "        [[-103,  -33,  -41],\n",
       "         [  91,  111,  -36],\n",
       "         [  20,   -3,   -1],\n",
       "         [  84,   22,   -4],\n",
       "         [ -61,  -58,   82],\n",
       "         [ -76,   25,   95],\n",
       "         [ -14,   46,  -21],\n",
       "         [-120,  -69,   80],\n",
       "         [  22,   94,  113],\n",
       "         [  66,   41,  -13]],\n",
       "\n",
       "        [[  88, -113,  -72],\n",
       "         [ 125,   29,   32],\n",
       "         [  50,  -33,   92],\n",
       "         [ 116,   90,  -84],\n",
       "         [  -1,   41,  -68],\n",
       "         [  44,    5,  -84],\n",
       "         [ -99,  -73,   24],\n",
       "         [  42,  -55,   63],\n",
       "         [ -63,  -26,  -26],\n",
       "         [ -82, -116,  -50]],\n",
       "\n",
       "        [[ -26,  -94,  -94],\n",
       "         [ -99,   85,    1],\n",
       "         [  99,   96,  -94],\n",
       "         [  65,   39,  -49],\n",
       "         [ -63,   89,   18],\n",
       "         [  55,  -88,   81],\n",
       "         [ -24,  -58,  107],\n",
       "         [  75,    2,  -35],\n",
       "         [ -39,  -65,  -27],\n",
       "         [  87,  -63,    7]]]])"
      ]
     },
     "execution_count": 14,
     "metadata": {},
     "output_type": "execute_result"
    }
   ],
   "source": [
    "X = np.random.randint(-127, 127, (1,10,10,3))\n",
    "X"
   ]
  },
  {
   "cell_type": "code",
   "execution_count": 15,
   "metadata": {},
   "outputs": [
    {
     "data": {
      "text/plain": [
       "array([[[[ 124.,    6., -214.],\n",
       "         [ -22.,    5., -195.],\n",
       "         [ -26.,  137.,  -66.]],\n",
       "\n",
       "        [[ 120., -272.,    4.],\n",
       "         [  10.,   55.,  -15.],\n",
       "         [-363.,   45., -153.]],\n",
       "\n",
       "        [[ -77.,   91., -120.],\n",
       "         [  16.,  -28.,   10.],\n",
       "         [-226.,   76.,   87.]]]], dtype=float32)"
      ]
     },
     "execution_count": 15,
     "metadata": {},
     "output_type": "execute_result"
    }
   ],
   "source": [
    "y = model.predict(X)\n",
    "y"
   ]
  },
  {
   "cell_type": "code",
   "execution_count": 16,
   "metadata": {},
   "outputs": [],
   "source": [
    "in_json = {\n",
    "    \"in\": X.astype(int).flatten().tolist()\n",
    "}"
   ]
  },
  {
   "cell_type": "code",
   "execution_count": 17,
   "metadata": {},
   "outputs": [],
   "source": [
    "out_json = {\n",
    "    \"scale\": scale,\n",
    "    \"out\": y.astype(int).flatten().tolist()\n",
    "}"
   ]
  },
  {
   "cell_type": "code",
   "execution_count": 18,
   "metadata": {},
   "outputs": [],
   "source": [
    "with open(\"sumPooling2D_stride_input.json\", \"w\") as f:\n",
    "    json.dump(in_json, f)"
   ]
  },
  {
   "cell_type": "code",
   "execution_count": 19,
   "metadata": {},
   "outputs": [],
   "source": [
    "with open(\"sumPooling2D_stride_output.json\", \"w\") as f:\n",
    "    json.dump(out_json, f)"
   ]
  },
  {
   "cell_type": "code",
   "execution_count": null,
   "metadata": {},
   "outputs": [],
   "source": []
  }
 ],
 "metadata": {
  "kernelspec": {
   "display_name": "tf24",
   "language": "python",
   "name": "tf24"
  },
  "language_info": {
   "codemirror_mode": {
    "name": "ipython",
    "version": 3
   },
   "file_extension": ".py",
   "mimetype": "text/x-python",
   "name": "python",
   "nbconvert_exporter": "python",
   "pygments_lexer": "ipython3",
   "version": "3.8.6"
  },
  "orig_nbformat": 4
 },
 "nbformat": 4,
 "nbformat_minor": 2
}
